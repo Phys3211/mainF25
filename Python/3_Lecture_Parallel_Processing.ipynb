{
 "cells": [
  {
   "cell_type": "markdown",
   "id": "e84bae78",
   "metadata": {},
   "source": [
    "# Parallel Processing\n",
    "\n",
    "You probably have a multi-core CPU, and for tedious tasks I highly recommend you using it. Parallel Processing is a computational method that allows multiple tasks to be executed concurrently.\n",
    "\n",
    "You should consider parallelizing your program:\n",
    "1. When tasks are independent - that is they can be executed without needing intermediate results or synchronization.\n",
    "2. For CPU-bound workloads - that is when programs spend significant time on computations\n",
    "3. For I/O-bound workloads - that is when tasks need to wait for external resources like file I/O, database queries, or network requests\n",
    "4. When processing large data\n",
    "5. When you have multi-core/cluster resources \n",
    "\n",
    "Is it worth the overhead costs? Good question! When do we know? Suppose we have the following:\n",
    "- $T$ tasks you want to compute that are independent of one another (perhaps the same sort of task with different parameter values)\n",
    "- $N$ CPUs on your computer\n",
    "- $M$ GB of memory\n",
    "- $t$ is the time it takes all tasks to run on one core.\n",
    "- $m$ is the amount of memory taken by each task.\n",
    "\n",
    "If $Nm < M$, then you can run one task on each of the $N$ cores. This will take $\\frac{t}{N}$ time. (It's all a little more complicated than this for hardware reasons, but let's not worry about that).\n",
    "\n",
    "You may ask, how many cores does my computer actually have? Well, you can use `os` for that"
   ]
  },
  {
   "cell_type": "code",
   "execution_count": null,
   "id": "887c2a15-6777-4166-9c5c-7a440fbf6980",
   "metadata": {},
   "outputs": [],
   "source": [
    "import os"
   ]
  },
  {
   "cell_type": "markdown",
   "id": "7cbbe947-f304-4f39-8706-92261209a314",
   "metadata": {},
   "source": [
    "## More Details (that you may or may want to know)\n",
    "Borrowed heavily from [Parallel Process reference](https://www.run.ai/guides/deep-learning-for-computer-vision/python-parallel-processing)\n",
    "\n",
    "There are multiple ways of implementing parallel processing in Python: multithreading, multiprocessing, and asynchronous programming.\n",
    "### Multi-Threading\n",
    "Multi-threading is a form of parallelism that allows programs to execute multiple commands concurrently. In Python, the `threading` module provides method to create and manage threads. Each thread can run a specific function or method, running independently of each other. However, because Python contains the Global Interpreter Lock (GIL) multi-threading doesn't always lead to improved performance. The GIL prevents true parallel processing for many tasks. IO-bound tasks are freed from the GIL, allowing IO-heavy programs to benefit."
   ]
  },
  {
   "cell_type": "code",
   "execution_count": 1,
   "id": "1f1504b3-290c-4d21-a2bf-61b457ed1f8e",
   "metadata": {},
   "outputs": [
    {
     "name": "stdout",
     "output_type": "stream",
     "text": [
      "Python implementation: cpython\n"
     ]
    }
   ],
   "source": [
    "import sys\n",
    "print(f\"Python implementation: {sys.implementation.name}\")"
   ]
  },
  {
   "cell_type": "code",
   "execution_count": 3,
   "id": "3509f2e2-6c57-4059-859a-07f753673b39",
   "metadata": {},
   "outputs": [],
   "source": [
    "import threading as th\n",
    "import time"
   ]
  },
  {
   "cell_type": "code",
   "execution_count": 5,
   "id": "9e5a08dc-7286-4568-bc61-a9c52d72c616",
   "metadata": {},
   "outputs": [],
   "source": [
    "def task(name):\n",
    "    print(f\"Task {name} started\")\n",
    "    time.sleep(2) \n",
    "    print(f\"Task {name} finished\")"
   ]
  },
  {
   "cell_type": "code",
   "execution_count": 7,
   "id": "879c3c4a-97fc-4888-95ca-a30783aa7156",
   "metadata": {},
   "outputs": [
    {
     "name": "stdout",
     "output_type": "stream",
     "text": [
      "Task 0 started\n",
      "Task 0 finished\n",
      "Task 1 started\n",
      "Task 1 finished\n",
      "Task 2 started\n",
      "Task 2 finished\n"
     ]
    }
   ],
   "source": [
    "for i in range(3):\n",
    "    task(i)"
   ]
  },
  {
   "cell_type": "code",
   "execution_count": 9,
   "id": "dee77087-8d23-4764-ab83-b5ceb6eec062",
   "metadata": {},
   "outputs": [
    {
     "name": "stdout",
     "output_type": "stream",
     "text": [
      "Task 0 started\n",
      "Task 1 started\n",
      "Task 2 started\n",
      "Task 0 finished\n",
      "Task 1 finished\n",
      "Task 2 finished\n",
      "All threads completed\n"
     ]
    }
   ],
   "source": [
    "threads = [th.Thread(target=task, args=(i,)) for i in range(3)]\n",
    "\n",
    "for t in threads:\n",
    "    t.start()\n",
    "\n",
    "for t in threads:\n",
    "    t.join()\n",
    "\n",
    "print(\"All threads completed\")\n"
   ]
  },
  {
   "cell_type": "markdown",
   "id": "9da20e83-4032-4a02-a2ac-5e51f1a6670a",
   "metadata": {},
   "source": [
    "### Multiprocessing\n",
    "Multiprocessing is another form of parallelism that allows multiple processes to run simultaneously. Unlike threads, each process runs its own Python interpreter, bypassing the GIL. The `multipocessing` module provides ways of creating and managing processes, as well as sharing data among various processes. Multiprocessing works well for CPU-bound tasks that spend most of their time performing computations."
   ]
  },
  {
   "cell_type": "code",
   "execution_count": null,
   "id": "8c609b56-6225-4ad5-8871-66d55cd20cf7",
   "metadata": {},
   "outputs": [],
   "source": [
    "from multiprocessing import Process\n",
    "\n",
    "def task(name):\n",
    "    print(f\"Task {name} started\")\n",
    "    time.sleep(2)  \n",
    "    print(f\"Task {name} finished\")\n",
    "\n",
    "processes = [Process(target=task, args=(i,)) for i in range(3)]\n",
    "\n",
    "for p in processes:\n",
    "    p.start()\n",
    "\n",
    "for p in processes:\n",
    "    p.join()\n",
    "\n",
    "print(\"All processes completed\")"
   ]
  },
  {
   "cell_type": "markdown",
   "id": "860a3b45-a373-4c2e-b9e2-17096f658771",
   "metadata": {},
   "source": [
    "### Asynchronous programming\n",
    "Asynchronous programming is a form of concurrent programming that involves executing tasks in a non-blocking manner. The `asyncio` module provides a way to write asynchronous code. \n",
    "Asynchronous programming can be a bit more complex than multi-threading or multiprocessing, as it requires a different way of thinking about the program's flow. However, it can be a powerful tool for writing efficient, high-performance code, particularly for IO-bound tasks.\n"
   ]
  },
  {
   "cell_type": "code",
   "execution_count": null,
   "id": "b92a814b-0cbf-47d1-aae2-97d6a41782d9",
   "metadata": {},
   "outputs": [],
   "source": [
    "import asyncio"
   ]
  },
  {
   "cell_type": "code",
   "execution_count": null,
   "id": "28746a75-9568-4a46-a9b8-a201a48a27d8",
   "metadata": {},
   "outputs": [],
   "source": [
    "async def task(name):\n",
    "    print(f\"Task {name} started\")\n",
    "    await asyncio.sleep(2)  # Simulates a delay (e.g., waiting for a network response)\n",
    "    print(f\"Task {name} finished\")\n",
    "\n",
    "async def main():\n",
    "    # Schedule multiple tasks concurrently\n",
    "    tasks = [task(i) for i in range(3)]\n",
    "    await asyncio.gather(*tasks)  # Run tasks concurrently\n",
    "\n",
    "# Run the main coroutine\n",
    "#asyncio.run(main()) # this line may be trouble in interactive environments like Jupyter notebooks.\n",
    "await main()"
   ]
  },
  {
   "cell_type": "markdown",
   "id": "1a464296-5fff-4090-a8fc-3c098a914da8",
   "metadata": {},
   "source": [
    "## Joblib\n",
    "As you see, there are many librbraries for parallel processing in Python. I am most familiar with `joblib `."
   ]
  },
  {
   "cell_type": "code",
   "execution_count": null,
   "id": "487677cf",
   "metadata": {},
   "outputs": [],
   "source": [
    "import random\n",
    "import joblib\n",
    "import time\n",
    "import math"
   ]
  },
  {
   "cell_type": "markdown",
   "id": "78aa0645",
   "metadata": {},
   "source": [
    "The useful class in `joblib` is `Parallel`. It abstracts away much of the complexities involved in managing parallel processing. `Parallel` has an optional backend argument that allow for thread- or process-based parallelization.\n",
    "- `threading`\n",
    "- `loky` (default)\n",
    "\n",
    "We need some function we want to repeat. Imagine you love computing factorials of random integers slowly."
   ]
  },
  {
   "cell_type": "code",
   "execution_count": null,
   "id": "dca47ccd",
   "metadata": {},
   "outputs": [],
   "source": [
    "def func_to_repeat(x):\n",
    "    time.sleep(1) \n",
    "    return math.factorial(x)"
   ]
  },
  {
   "cell_type": "code",
   "execution_count": null,
   "id": "accc6475",
   "metadata": {},
   "outputs": [],
   "source": [
    "from joblib import Parallel, delayed\n",
    "\n",
    "N = 4\n",
    "many_exs = Parallel(n_jobs=1, backend='loky')(delayed(func_to_repeat)(x) for x in [random.randint(0,10) for _ in range(N)])"
   ]
  },
  {
   "cell_type": "markdown",
   "id": "d32c3d6c",
   "metadata": {},
   "source": [
    "Took about 4 seconds. Not surprising. Why?"
   ]
  },
  {
   "cell_type": "code",
   "execution_count": null,
   "id": "90a744c6",
   "metadata": {},
   "outputs": [],
   "source": [
    "\n",
    "N = 8\n",
    "many_exs = Parallel(n_jobs=2)(delayed(func_to_repeat)(x) for x in [random.randint(0,10) for _ in range(N)])"
   ]
  },
  {
   "cell_type": "markdown",
   "id": "bc0a3f42",
   "metadata": {},
   "source": [
    "Clearly there is some degradation here, but still, better than nothing.\n",
    "\n",
    "What if we set N higher and wanted to check progress in real time? Use `tqdm`."
   ]
  },
  {
   "cell_type": "code",
   "execution_count": null,
   "id": "b8f09647",
   "metadata": {},
   "outputs": [],
   "source": [
    "from tqdm import tqdm\n",
    "\n",
    "N = 8\n",
    "many_exs = Parallel(n_jobs=8)(delayed(func_to_repeat)(x) for x in tqdm([random.randint(0,10) for _ in range(N)]))\n"
   ]
  },
  {
   "cell_type": "code",
   "execution_count": null,
   "id": "5c51c7fe-befb-4266-ba32-714eb5c5fd5f",
   "metadata": {},
   "outputs": [],
   "source": [
    "N = 100\n",
    "many_exs = Parallel(n_jobs=4)(delayed(func_to_repeat)(x) for x in tqdm([random.randint(0,10) for _ in range(N)]))"
   ]
  },
  {
   "cell_type": "code",
   "execution_count": null,
   "id": "c9a46ef8-e2c5-447a-8da9-315e604c3a58",
   "metadata": {},
   "outputs": [],
   "source": [
    "for i in tqdm(range(10), desc=\"Processing\", unit=\"item\", colour=\"blue\"):\n",
    "    time.sleep(0.1)"
   ]
  },
  {
   "cell_type": "markdown",
   "id": "9b25ed5c",
   "metadata": {},
   "source": [
    "# When NOT to use Parallel Processing\n",
    "Parallel processing will (probably) not bring benefits when you dealing with \n",
    "- Downloading files\n",
    "- Dependent tasks\n",
    "- Sequential tasks\n",
    "- Short tasks\n",
    "- Limited CPU resources\n",
    "\n",
    "Before parallelizing any code, remember to consider (1) the overhead time that it will introduce and (2) parallel code is more complex and harding to maintain."
   ]
  },
  {
   "cell_type": "markdown",
   "id": "b45738c7",
   "metadata": {},
   "source": []
  }
 ],
 "metadata": {
  "kernelspec": {
   "display_name": "Python 3 (ipykernel)",
   "language": "python",
   "name": "python3"
  },
  "language_info": {
   "codemirror_mode": {
    "name": "ipython",
    "version": 3
   },
   "file_extension": ".py",
   "mimetype": "text/x-python",
   "name": "python",
   "nbconvert_exporter": "python",
   "pygments_lexer": "ipython3",
   "version": "3.11.8"
  }
 },
 "nbformat": 4,
 "nbformat_minor": 5
}
