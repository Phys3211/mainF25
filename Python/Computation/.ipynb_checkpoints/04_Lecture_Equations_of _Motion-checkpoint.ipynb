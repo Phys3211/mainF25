{
 "cells": [
  {
   "cell_type": "markdown",
   "metadata": {},
   "source": [
    "# Equations of motion (2nd order ODEs)\n",
    "\n",
    "Equations of motion describe the behavior of physical systems by relating fundamental quantities such as position, velocity, acceleration, and forces. These equations form the foundation of classical mechanics, electromagnetism, quantum mechanics, and many other branches of physics. Newton’s Second Law, $\\sum\\vec{F}= m\\vec{a}$, provides a fundamental starting point, leading to differential equations that govern motion under various forces. Whether modeling planetary orbits, oscillating systems, or fluid flow, equations of motion allow physicists to predict and analyze system dynamics. In computational physics, solving these equations numerically enables simulations of complex systems that lack analytical solutions, making them essential for fields ranging from astrophysics to engineering.\n",
    "\n",
    "We know that the motion of an object is determined by Newton’s\n",
    "equations. In the one-dimensional case, we can define the instantaneous\n",
    "position $y(t)$, velocity $v(t)$ and acceleration $a(t)$ of an object\n",
    "using the language of differential calculus: \n",
    "$$v(t)=\\frac{dy}{dt}$$\n",
    "$$a(t)=\\frac{dv}{dt}$$ \n",
    "where the motion of the particle is defined by:\n",
    "$$\\frac{d^2y}{dt^2}=\\frac{F(t)}{m} = f(t,y)$$.\n",
    "\n",
    "Numerical methods, such as the Euler or Runge-Kutta methods, are often more effective when solving systems of first-order differential equations. To convert a second-order differential equation into a system of first-order equations, we introduce an auxiliary variable representing the first derivative. For example, given the equation, $$\\frac{d^2y}{dt^2} = f(t,y,v)$$ we can define a new variable, $v=\\frac{dy}{dt}$, which transforms the original equations into the system,\n",
    "$$\\frac{dy}{dt} = v$$\n",
    "$$\\frac{dv}{dt} = f(t,y,v)$$\n",
    "This method allows numerical solvers to treat the system as a set of coupled first-order equations, making it compatible with standard integration techniques like Runge-Kutta.\n",
    "\n",
    "For example, using Euler's method on traditional motion model, we obtain: \n",
    "\n",
    "$$\n",
    "\\begin{align}\n",
    "v_{n+1}&=&v_n+f(t,y,v)\\Delta t = v_n+a_n\\Delta t, \\\\\n",
    "y_{n+1}&=&y_n+v_n\\Delta t,\\end{align}$$ \n",
    "\n",
    "In this way, we can transform an $n$th-order differential equation into $n$ first-order differential equations. Given an general differential equation, \n",
    "$$\\frac{d^{n}y}{dt^{n}} \\equiv y^{(n)} = f\\left( t, y, y', y'', \\dots, y^{(n-1)} \\right),$$\n",
    "we can introduce a series of new variables to reduce the order of the equation,\n",
    "$$y_1 = y, \\quad y_2 = y', \\quad y_3 = y'', \\quad \\dots, \\quad y_n = y^{(n-1)}$$\n",
    "and write a system of first-order ODEs,\n",
    "$$\\begin{aligned}\n",
    "    y_1' &= y_2, \\\\\n",
    "    y_2' &= y_3, \\\\\n",
    "    &\\vdots \\\\\n",
    "    y_{n-1}' &= y_n, \\\\\n",
    "    y_n' &= F(t, y_1, y_2, \\dots, y_n),\n",
    "\\end{aligned}$$\n",
    "You can then feed arrays into our ODE solving methods to calculate a solution.\n",
    "\n",
    "## One dimensional motion\n",
    "Let's use what we've learned to write a program to solve the 1D equations of motion for a falling object. We'll take the initial conditions: \n",
    "- $y_0=y(t=0)$\n",
    "- $v_0=v(t=0)$.\n",
    "  \n",
    "We should compare results with\n",
    "different $\\Delta t$ and the exact solution.\n"
   ]
  },
  {
   "cell_type": "markdown",
   "metadata": {},
   "source": [
    "This is a good time as any to introduce the concept of **objects** and object oriented programming in Python. We will first define a class \"**particle**\" to assist in analyzing motion."
   ]
  },
  {
   "cell_type": "markdown",
   "metadata": {},
   "source": [
    "# Classes in Python\n",
    "A class in Python is a blueprint for creating objects. It defines a set of attributes (data) and methods (functions) that describe the behavior of the object. The following defines a class called `particle`."
   ]
  },
  {
   "cell_type": "code",
   "execution_count": 19,
   "metadata": {},
   "outputs": [],
   "source": [
    "class particle(object):\n",
    "    # default values are assigned\n",
    "    def __init__(self, mass=1., y=0., v=0.): # default values are assigned\n",
    "        self.mass = mass\n",
    "        self.y = y\n",
    "        self.v = v\n",
    "    # updates the position and velocity by Euler's method   \n",
    "    def euler(self, f, dt): \n",
    "        self.y = self.y + self.v*dt\n",
    "        self.v = self.v + f/self.mass*dt\n",
    "        # Method to print particle properties\n",
    "    def __str__(self):\n",
    "        return f\"Particle Properties:\\nMass: {self.mass}\\nPosition: {self.y}\\nVelocity: {self.v}\""
   ]
  },
  {
   "cell_type": "code",
   "execution_count": 7,
   "metadata": {},
   "outputs": [
    {
     "name": "stdout",
     "output_type": "stream",
     "text": [
      "[1, 3, 6]\n"
     ]
    }
   ],
   "source": [
    "mylist = list([1,3,6])\n",
    "print(mylist)\n",
    "mylist.append(6)"
   ]
  },
  {
   "cell_type": "markdown",
   "metadata": {},
   "source": [
    "## Key Class Concepts\n",
    "1. The `__init__` Method (Constructor)\n",
    "- This is called automatically when a new instance of the class is created.\n",
    "- It initializes object attributes (also called instance variables).\n",
    "- Default values (mass=1., y=0., v=0.) allow flexibility when creating objects.\n",
    "2. Instance Variables (`self.mass`, `self.y`, `self.v`)\n",
    "- `self` represents the instance of the class.\n",
    "- Attributes are assigned using `self.attribute_name`.\n",
    "3. Class Methods (`euler`)\n",
    "- Functions inside a class are called methods.\n",
    "- They define the behavior of objects.\n",
    "- In `euler(self, f, dt)`, the position and velocity are updated using Euler's method, a numerical technique."
   ]
  },
  {
   "cell_type": "markdown",
   "metadata": {},
   "source": [
    "We can create an instance of this class:"
   ]
  },
  {
   "cell_type": "code",
   "execution_count": 23,
   "metadata": {},
   "outputs": [],
   "source": [
    "# use default values\n",
    "p1 = particle()\n",
    "p2 = particle(mass = 2.,y=5.,v=3.)"
   ]
  },
  {
   "cell_type": "code",
   "execution_count": 25,
   "metadata": {},
   "outputs": [
    {
     "name": "stdout",
     "output_type": "stream",
     "text": [
      "Particle Properties:\n",
      "Mass: 2.0\n",
      "Position: 5.0\n",
      "Velocity: 3.0\n"
     ]
    }
   ],
   "source": [
    "print(p2)"
   ]
  },
  {
   "cell_type": "markdown",
   "metadata": {},
   "source": [
    "We are now in a position for a free falling particle. Let's start with imports and initializations"
   ]
  },
  {
   "cell_type": "code",
   "execution_count": 27,
   "metadata": {},
   "outputs": [],
   "source": [
    "%matplotlib inline\n",
    "import numpy as np\n",
    "import matplotlib\n",
    "from matplotlib import pyplot as plt\n",
    "# some plot \"beautification\"\n",
    "matplotlib.rcParams.update({'figure.dpi': 75, 'font.size': 10})\n",
    "\n",
    "g = 9.8            # g acceleration\n",
    "mass = 0.01        # mass of the particle\n",
    "y0 = 300.          # initial position\n",
    "v0 = 0.            # initial velocity\n",
    "weight = g*mass    # weight\n",
    "dt = 0.5           # time step\n",
    "\n",
    "part1 = particle(mass, y0, v0)\n",
    "\n",
    "# since we do not know the size of the arrays, we define first a python list\n",
    "# the append method is more efficient for lists than arrays\n",
    "y = [y0] \n",
    "v = [v0] \n",
    "t = [0.]"
   ]
  },
  {
   "cell_type": "markdown",
   "metadata": {},
   "source": [
    "Now we need a loop that solves the dynamics a long as the particle is above the ground."
   ]
  },
  {
   "cell_type": "code",
   "execution_count": 31,
   "metadata": {},
   "outputs": [],
   "source": [
    "# use y-value of the particle to check if the particle has hit the ground\n",
    "while part1.y > 0.: \n",
    "    fy = -weight\n",
    "    part1.euler(fy, dt) # update the position and velocity of the particle by Euler\n",
    "    y.append(part1.y)\n",
    "    v.append(part1.v)\n",
    "    t.append(t[-1]+dt)\n",
    "\n",
    "# we convert the list into a numpy array for plotting\n",
    "t_data = np.array(t) \n",
    "y_data = np.array(y)\n",
    "v_data = np.array(v)"
   ]
  },
  {
   "cell_type": "code",
   "execution_count": 35,
   "metadata": {},
   "outputs": [
    {
     "data": {
      "text/plain": [
       "array([300.  , 300.  , 297.55, 292.65, 285.3 , 275.5 , 263.25, 248.55,\n",
       "       231.4 , 211.8 , 189.75, 165.25, 138.3 , 108.9 ,  77.05,  42.75,\n",
       "         6.  , -33.2 ])"
      ]
     },
     "execution_count": 35,
     "metadata": {},
     "output_type": "execute_result"
    }
   ],
   "source": [
    "y_data"
   ]
  },
  {
   "cell_type": "code",
   "execution_count": null,
   "metadata": {},
   "outputs": [],
   "source": []
  },
  {
   "cell_type": "markdown",
   "metadata": {},
   "source": [
    "Let's plot the velocities and positions"
   ]
  },
  {
   "cell_type": "code",
   "execution_count": 33,
   "metadata": {
    "scrolled": true
   },
   "outputs": [
    {
     "data": {
      "image/png": "[encoded data removed]",
      "text/plain": [
       "<Figure size 480x360 with 1 Axes>"
      ]
     },
     "metadata": {},
     "output_type": "display_data"
    },
    {
     "data": {
      "image/png": "[encoded data removed]",
      "text/plain": [
       "<Figure size 480x360 with 1 Axes>"
      ]
     },
     "metadata": {},
     "output_type": "display_data"
    },
    {
     "name": "stdout",
     "output_type": "stream",
     "text": [
      "last time is 8.5\n"
     ]
    }
   ],
   "source": [
    "plt.plot(t_data, v_data, color=\"#FF0000\", ls='-', lw=3)\n",
    "plt.xlabel('time(s)')\n",
    "plt.ylabel('velocity(m/s)')\n",
    "plt.show()\n",
    "\n",
    "plt.plot(t_data, y_data, color=\"#0000FF\", ls='-', lw=3)\n",
    "plt.ylabel('position(m)')\n",
    "plt.xlabel('time(s)')\n",
    "plt.show()\n",
    "\n",
    "print(\"last time is {}\".format(t_data[-1]))"
   ]
  },
  {
   "cell_type": "markdown",
   "metadata": {},
   "source": [
    "At the end of the process, we have a particle object that has new properties."
   ]
  },
  {
   "cell_type": "markdown",
   "metadata": {},
   "source": [
    "## Adding Air Resistance\n",
    "\n",
    "Resistance from fluids (i.e. air) come in two forms of the velocity-dependent forces. Linear drag $$\\vec{F}_{d} = -b_1\\vec{v}$$ dominates for smaller objects though dense, viscous fluids. Quadratic drag $$\\vec{F_{d}} = -b_2\\vec{v}|\\vec{v}|$$ dominates for larger, more massive objects through less dense mediums. The parameters $b_i$'s are parameters that depends on the properties of the medium and the shape of the object. Since $F$ increases as $v$ increases, there is a limiting velocity at which $F_d=F_g=mg$ and the acceleration vanishes. This limiting speed is, of course, the terminal velocity, $v_t$.\n"
   ]
  },
  {
   "cell_type": "markdown",
   "metadata": {},
   "source": [
    "The model with air resistance looks pretty much identical to the previous one, but we need to introduce the drag force"
   ]
  },
  {
   "cell_type": "code",
   "execution_count": 37,
   "metadata": {},
   "outputs": [
    {
     "name": "stdout",
     "output_type": "stream",
     "text": [
      "last time is 3.4905800000144\n"
     ]
    },
    {
     "data": {
      "image/png": "[encoded data removed]",
      "text/plain": [
       "<Figure size 480x360 with 1 Axes>"
      ]
     },
     "metadata": {},
     "output_type": "display_data"
    }
   ],
   "source": [
    "g = 9.8            # g acceleration\n",
    "mass = 0.01        # mass of the particle\n",
    "y0 = 50.          # initial position\n",
    "v0 = 0.            # initial velocity\n",
    "vt = 30.           # terminal velocity\n",
    "b2 = g*mass/vt**2  # drag coeff.\n",
    "\n",
    "dt = 0.00001           # time step\n",
    "\n",
    "gforce = g*mass    # weight\n",
    "\n",
    "p = particle(mass, y0, v0)\n",
    "\n",
    "y = [y0] # since we do not know the size of the arrays, we define first a python list\n",
    "v = [v0] # the append method is more efficient for lists than arrays\n",
    "t = [0.]\n",
    "\n",
    "while p.y > 0.:\n",
    "    fy = -gforce-b2*p.v*abs(p.v)\n",
    "    p.euler(fy, dt)\n",
    "    y.append(p.y)\n",
    "    v.append(p.v)\n",
    "    t.append(t[-1]+dt)\n",
    "    \n",
    "t_data = np.array(t) # we convert the list into a numpy array for plotting\n",
    "y_data = np.array(y)\n",
    "v_data = np.array(v)\n",
    "\n",
    "#for i in range(0,t_data.size):\n",
    "#    print (i,t_data[i], y_data[i], v_data[i])\n",
    "\n",
    "plt.plot(t_data, v_data, color=\"#FF0000\", ls='-', lw=3)\n",
    "plt.xlabel('time(s)')\n",
    "plt.ylabel('velocity(m/s)');\n",
    "\n",
    "\n",
    "print(\"last time is {}\".format(t_data[-1]))"
   ]
  },
  {
   "cell_type": "code",
   "execution_count": null,
   "metadata": {},
   "outputs": [],
   "source": [
    "plt.plot(t_data, y_data, color=\"#0000FF\", ls='-', lw=3)\n",
    "plt.ylabel('position(m)');\n",
    "plt.xlabel('time (s)')"
   ]
  },
  {
   "cell_type": "markdown",
   "metadata": {},
   "source": [
    "Now we want to ignore drag, which can effectively be done by sending $v_t \\to \\infty$"
   ]
  },
  {
   "cell_type": "code",
   "execution_count": 39,
   "metadata": {},
   "outputs": [
    {
     "name": "stdout",
     "output_type": "stream",
     "text": [
      "last time is 3.1999999999999758\n"
     ]
    },
    {
     "data": {
      "image/png": "[encoded data removed]",
      "text/plain": [
       "<Figure size 480x360 with 1 Axes>"
      ]
     },
     "metadata": {},
     "output_type": "display_data"
    }
   ],
   "source": [
    "g = 9.8            # g acceleration\n",
    "mass = 0.01        # mass of the particle\n",
    "y0 = 50.          # initial position\n",
    "v0 = 0.            # initial velocity\n",
    "vt = 1e10          # terminal velocity, making it HUGE!\n",
    "b2 = g*mass/vt**2  # drag coeff.\n",
    "\n",
    "dt = 0.01           # time step\n",
    "\n",
    "gforce = g*mass    # weight\n",
    "\n",
    "p = particle(mass, y0, v0)\n",
    "\n",
    "y = [y0] # since we do not know the size of the arrays, we define first a python list\n",
    "v = [v0] # the append method is more efficient for lists than arrays\n",
    "t = [0.]\n",
    "\n",
    "while p.y > 0.:\n",
    "    fy = -gforce-b2*p.v*abs(p.v)\n",
    "    p.euler(fy, dt)\n",
    "    y.append(p.y)\n",
    "    v.append(p.v)\n",
    "    t.append(t[-1]+dt)\n",
    "    \n",
    "t_data = np.array(t) # we convert the list into a numpy array for plotting\n",
    "y_data = np.array(y)\n",
    "v_data = np.array(v)\n",
    "\n",
    "#for i in range(0,t_data.size):\n",
    "#    print (i,t_data[i], y_data[i], v_data[i])\n",
    "\n",
    "plt.plot(t_data, v_data, color=\"#FF0000\", ls='-', lw=3)\n",
    "plt.xlabel('time(s)')\n",
    "plt.ylabel('velocity(m/s)');\n",
    "\n",
    "print(\"last time is {}\".format(t_data[-1]))"
   ]
  },
  {
   "cell_type": "markdown",
   "metadata": {},
   "source": [
    "Of course, this physics is rather simple, but seeing the result come out so well in the numerical experiment helps give us confidence in them.\n",
    "\n",
    "We solved the diff eq directly via numerical techniques. However, for some problems with harder diff eqs it's not so easy, and different approaches are worth considering.\n",
    "\n",
    "### Question: how could you do this problem with a neural network?"
   ]
  },
  {
   "cell_type": "markdown",
   "metadata": {},
   "source": [
    "# Two dimensional trajectories\n",
    "\n",
    "In a 2d trajectory, the direction of the drag force is opposite to the\n",
    "speed vector ${\\bf v}$. Newton’s equations of motion for $x$ and $y$\n",
    "components are written \n",
    "$$\\begin{aligned}\n",
    "&& m\\frac{dv_x}{dt}=-F_{d,x}; \\\\\n",
    "&& m\\frac{dv_y}{dt}=-mg-F_{d,y};\\end{aligned}$$ \n",
    "Using $F_d=b_2v^2$,\n",
    "$v_x=v\\cos{\\theta}$ and $v_y=v\\sin{\\theta}$, we find\n",
    "$$\\begin{aligned}\n",
    "&& \\left[\\frac{dx}{dt},\\frac{dv_x}{dt}\\right] = \\left[v_x, -\\frac{b_2}{m}vv_x\\right] \\\\ \n",
    "&&\\left[\\frac{dy}{dt},\\frac{dv_y}{dt}\\right] = \\left[v_y,-g-\\frac{b_2}{m}vv_y\\right] \n",
    "\\end{aligned}$$\n",
    "where $v^2=v_x^2+v_y^2$. Hence, we cannot calculate the vertical motion of the object without reference to the horizontal component.\n",
    "\n",
    "![forces2](figures/forces2.png)\n",
    "#### Object in a two dimensional trajectory under the effect of gravitational and dragging forces}\n"
   ]
  },
  {
   "cell_type": "code",
   "execution_count": 41,
   "metadata": {},
   "outputs": [],
   "source": [
    "import numpy as np\n",
    "\n",
    "class Particle2D:\n",
    "    def __init__(self, mass=1., x=0., y=0., vx=0., vy=0.):\n",
    "        \"\"\"\n",
    "        Initializes the particle with mass, position, and velocity.\n",
    "\n",
    "        Parameters:\n",
    "        - mass: Mass of the particle\n",
    "        - x, y: Initial position (scalars)\n",
    "        - vx, vy: Initial velocity (scalars)\n",
    "        \"\"\"\n",
    "        self.mass = mass\n",
    "        self.position = np.array([x, y], dtype=float)  # Vectorized position\n",
    "        self.velocity = np.array([vx, vy], dtype=float)  # Vectorized velocity\n",
    "\n",
    "    def euler(self, force, dt):\n",
    "        \"\"\"\n",
    "        Updates the particle's state using the Euler method.\n",
    "\n",
    "        Parameters:\n",
    "        - force: A NumPy array representing force components [fx, fy]\n",
    "        - dt: Time step (scalar)\n",
    "        \"\"\"\n",
    "        self.velocity += (force / self.mass) * dt  # Vectorized velocity update\n",
    "        self.position += self.velocity * dt  # Vectorized position update\n",
    "\n",
    "    @property\n",
    "    def x(self):\n",
    "        return self.position[0]\n",
    "\n",
    "    @property\n",
    "    def y(self):\n",
    "        return self.position[1]\n",
    "\n",
    "    @property\n",
    "    def vx(self):\n",
    "        return self.velocity[0]\n",
    "\n",
    "    @property\n",
    "    def vy(self):\n",
    "        return self.velocity[1]"
   ]
  },
  {
   "cell_type": "code",
   "execution_count": 43,
   "metadata": {
    "scrolled": true
   },
   "outputs": [
    {
     "data": {
      "image/png": "[encoded data removed]",
      "text/plain": [
       "<Figure size 600x450 with 1 Axes>"
      ]
     },
     "metadata": {},
     "output_type": "display_data"
    }
   ],
   "source": [
    "%matplotlib inline\n",
    "import numpy as np\n",
    "from matplotlib import pyplot as plt\n",
    "from matplotlib.colors import ColorConverter as cc\n",
    "import math\n",
    "\n",
    "# Define constants\n",
    "g = 9.8            # Acceleration due to gravity (m/s^2)\n",
    "v0 = 30.           # Initial velocity (m/s)\n",
    "dt = 0.1           # Time step (s)\n",
    "\n",
    "# Define colors for plotting\n",
    "colors = ['red', 'orange', 'yellow', 'green', 'magenta', 'cyan', 'blue', 'purple', 'black']\n",
    "\n",
    "\n",
    "# Create plot\n",
    "plt.figure(figsize=(8, 6))\n",
    "\n",
    "# Simulate projectiles at different angles\n",
    "for angle in range(1, 9):\n",
    "    # Initial conditions\n",
    "    theta = angle * 0.1 * math.pi / 2.\n",
    "    velocity = np.array([math.cos(theta) * v0, math.sin(theta) * v0])\n",
    "    p = Particle2D(1., 0., 0., *velocity)\n",
    "\n",
    "    # Store trajectory data\n",
    "    x_vals, y_vals = [p.x], [p.y]\n",
    "    t_vals = [0.]\n",
    "    \n",
    "    # Simulate projectile motion\n",
    "    while p.y >= 0.:\n",
    "        force = np.array([0., -g])  # Gravity force vector\n",
    "        p.euler(force, dt)\n",
    "        x_vals.append(p.x)\n",
    "        y_vals.append(p.y)\n",
    "        t_vals.append(t_vals[-1] + dt)\n",
    "    \n",
    "    # Convert lists to numpy arrays for plotting\n",
    "    x_data = np.array(x_vals)\n",
    "    y_data = np.array(y_vals)\n",
    "    \n",
    "    # Plot trajectory\n",
    "    plt.plot(x_data, y_data, color=colors[angle], ls='-', lw=3, label=f\"{angle * 0.1:.1f}\")\n",
    "\n",
    "# Final plot adjustments\n",
    "plt.xlabel('Position x (m)')\n",
    "plt.ylabel('Position y (m)')\n",
    "plt.title('Projectile Motion at Different Angles')\n",
    "plt.legend()\n",
    "plt.grid()\n",
    "plt.show()"
   ]
  },
  {
   "cell_type": "markdown",
   "metadata": {},
   "source": [
    "# An Introduction to Animations with `matplotlib`\n",
    "`matplotlib.animation` is a module in Matplotlib used to create animated visualizations in Python. It provides classes such as `FuncAnimation` and `ArtistAnimation`, which allow for frame-by-frame updates to a figure, making it useful for demonstrating dynamic systems like particle motion, physics simulations, or real-time data visualization.\n",
    "\n",
    "In Jupyter Notebooks, animations can be embedded using HTML rendering, making it easier to share or visualize results without exporting to external video formats."
   ]
  },
  {
   "cell_type": "code",
   "execution_count": null,
   "metadata": {},
   "outputs": [],
   "source": [
    "%matplotlib inline\n",
    "import numpy as np\n",
    "from matplotlib import pyplot as plt\n",
    "import matplotlib.animation as animation\n",
    "from IPython.display import HTML\n",
    "\n",
    "# Define constants\n",
    "g = 9.8       # Acceleration due to gravity (m/s²)\n",
    "dt = 0.01     # Time step (s)\n",
    "\n",
    "# Initialize particle\n",
    "p = Particle2D(1., 0., 0., 10., 10.)\n",
    "force = np.array([0., -g])  # Gravity force vector\n",
    "\n",
    "# Set up figure and plot\n",
    "fig = plt.figure()\n",
    "ax = plt.axes(xlim=(0, 20), ylim=(0, 6), xlabel='distance x(m)', ylabel='distance y(m)')\n",
    "points, = ax.plot([], [], marker='o', linestyle='None')\n",
    "\n",
    "def init():\n",
    "    \"\"\"Initialize the animation frame.\"\"\"\n",
    "    points.set_data([], [])\n",
    "    return points,\n",
    "\n",
    "def animate(i):\n",
    "    \"\"\"Update function for animation.\"\"\"\n",
    "    if p.y >= 0 and i > 0:\n",
    "        p.euler(force, dt)  # Update particle motion using vectorized force\n",
    "    points.set_data([p.x], [p.y])  # Wrap x and y as lists/arrays\n",
    "    return points,\n",
    "\n",
    "# Create the animation\n",
    "anim = animation.FuncAnimation(fig, animate, init_func=init, frames=200, interval=3)\n",
    "\n",
    "# Embed the animation in the notebook\n",
    "HTML(anim.to_jshtml())\n"
   ]
  },
  {
   "cell_type": "code",
   "execution_count": null,
   "metadata": {},
   "outputs": [],
   "source": [
    "f = ax.plot([], [], marker='o', linestyle='None')"
   ]
  },
  {
   "cell_type": "code",
   "execution_count": null,
   "metadata": {},
   "outputs": [],
   "source": [
    "print(f)"
   ]
  },
  {
   "cell_type": "markdown",
   "metadata": {},
   "source": [
    "# Using `solve_ivp`?"
   ]
  },
  {
   "cell_type": "code",
   "execution_count": null,
   "metadata": {
    "scrolled": true
   },
   "outputs": [],
   "source": [
    "%matplotlib inline\n",
    "import numpy as np\n",
    "from scipy.integrate import solve_ivp\n",
    "from matplotlib import pyplot as plt\n",
    "import matplotlib.animation as animation\n",
    "from IPython.display import HTML\n",
    "\n",
    "# Constants\n",
    "g = 9.8  # Gravity (m/s^2)\n",
    "dt = 0.01  # Time step (s)\n",
    "t_max = 2  # Max time for simulation (adjust based on expected flight time)\n",
    "\n",
    "# Initial conditions\n",
    "x0, y0 = 0.0, 0.0  # Initial position\n",
    "vx0, vy0 = 10.0, 10.0  # Initial velocity\n",
    "\n",
    "# Define the system of ODEs for 2D projectile motion\n",
    "def projectile_motion(t, state):\n",
    "    \"\"\"\n",
    "    Computes the derivative of state for projectile motion.\n",
    "    \n",
    "    state = [x, y, vx, vy]\n",
    "    dx/dt = vx\n",
    "    dy/dt = vy\n",
    "    dvx/dt = 0  (no horizontal acceleration)\n",
    "    dvy/dt = -g (gravity)\n",
    "    \"\"\"\n",
    "    x, y, vx, vy = state\n",
    "    return [vx, vy, 0, -g]  # dx/dt, dy/dt, dvx/dt, dvy/dt\n",
    "\n",
    "# Solve the system using solve_ivp\n",
    "sol = solve_ivp(projectile_motion, (0, t_max), [x0, y0, vx0, vy0], \n",
    "                method='RK45', t_eval=np.arange(0, t_max, dt))\n",
    "\n",
    "# Extract solution\n",
    "x_data, y_data = sol.y[0], sol.y[1]\n",
    "\n",
    "# Trim data to remove points after projectile hits the ground (y < 0)\n",
    "valid_indices = y_data >= 0\n",
    "x_data = x_data[valid_indices]\n",
    "y_data = y_data[valid_indices]\n",
    "\n",
    "# Create figure and animation\n",
    "fig, ax = plt.subplots()\n",
    "ax.set_xlim(0, max(x_data) + 1)\n",
    "ax.set_ylim(0, max(y_data) + 1)\n",
    "ax.set_xlabel('Distance x (m)')\n",
    "ax.set_ylabel('Distance y (m)')\n",
    "points, = ax.plot([], [], marker='o', linestyle='None')\n",
    "\n",
    "def init():\n",
    "    \"\"\"Initialize the animation frame.\"\"\"\n",
    "    points.set_data([], [])\n",
    "    return points,\n",
    "\n",
    "def animate(i):\n",
    "    \"\"\"Update function for animation.\"\"\"\n",
    "    if i < len(x_data):\n",
    "        points.set_data([x_data[i]], [y_data[i]])  # Ensure data is in list form\n",
    "    return points,\n",
    "\n",
    "# Create animation\n",
    "anim = animation.FuncAnimation(fig, animate, init_func=init, frames=len(x_data), interval=dt * 1000)\n",
    "\n",
    "# Embed animation in Jupyter Notebook\n",
    "HTML(anim.to_jshtml())\n"
   ]
  },
  {
   "cell_type": "markdown",
   "metadata": {},
   "source": [
    "## Event Detection using `solve_ivp`\n",
    "In the code above, you may have noticed that we filtered data for when the \"ball\" is below ground. It might be easier to use built-in functionality of `solve_ivp` to helps us.\n"
   ]
  },
  {
   "cell_type": "code",
   "execution_count": null,
   "metadata": {},
   "outputs": [],
   "source": [
    "import numpy as np\n",
    "from scipy.integrate import solve_ivp\n",
    "import matplotlib.pyplot as plt\n",
    "\n",
    "# Constants\n",
    "g = 9.8  # Gravity (m/s²)\n",
    "t_max = 10  # Maximum simulation time (s) (arbitrary large value)\n",
    "dt = 0.01  # Time step for evaluation\n",
    "\n",
    "# Initial conditions\n",
    "x0, y0 = 0.0, 0.0  # Initial position\n",
    "vx0, vy0 = 10.0, 10.0  # Initial velocity\n",
    "\n",
    "# Define the system of ODEs for 2D projectile motion\n",
    "def projectile_motion(t, state):\n",
    "    \"\"\"\n",
    "    Computes the derivative of state for projectile motion.\n",
    "    \n",
    "    state = [x, y, vx, vy]\n",
    "    dx/dt = vx\n",
    "    dy/dt = vy\n",
    "    dvx/dt = 0  (no horizontal acceleration)\n",
    "    dvy/dt = -g (gravity)\n",
    "    \"\"\"\n",
    "    x, y, vx, vy = state\n",
    "    return [vx, vy, 0, -g]  # dx/dt, dy/dt, dvx/dt, dvy/dt\n",
    "\n",
    "# Define an event function to stop integration when y = 0 (hits the ground)\n",
    "def hit_ground(t, state):\n",
    "    return state[1]  # y position\n",
    "\n",
    "# Stop the integration when the projectile reaches the ground\n",
    "\n",
    "# Solve the system using solve_ivp with event detection\n",
    "sol = solve_ivp(\n",
    "    projectile_motion, (0, t_max), [x0, y0, vx0, vy0], \n",
    "    method='RK45', t_eval=np.arange(0, t_max, dt),\n",
    "    events=hit_ground\n",
    ")\n",
    "\n",
    "# Extract solution\n",
    "t_data = sol.t  # Time points\n",
    "x_data, y_data = sol.y[0], sol.y[1]  # Positions\n",
    "\n",
    "# Plot the trajectory\n",
    "plt.figure(figsize=(8, 6))\n",
    "plt.plot(x_data, y_data, label=\"Projectile Path\", lw=2)\n",
    "plt.xlabel('Distance x (m)')\n",
    "plt.ylabel('Height y (m)')\n",
    "plt.title('2D Projectile Motion')\n",
    "plt.legend()\n",
    "plt.grid()\n",
    "plt.show()\n",
    "\n",
    "# Display final values\n",
    "print(f\"Flight time: {sol.t[-1]:.2f} s\")\n",
    "print(f\"Range: {x_data[-1]:.2f} m\")\n",
    "print(f\"Final height: {y_data[-1]:.2f} m (should be 0)\")\n"
   ]
  },
  {
   "cell_type": "markdown",
   "metadata": {},
   "source": [
    "Stability\n",
    "---------\n",
    "\n",
    "A major consideration in integrating differential equations is the\n",
    "numerical stability of the algorithm used. Since we have replaced the\n",
    "differential equation by a difference equation, we know that our results\n",
    "will not be exact. Discrepancies will arise when using different step\n",
    "sizes, for instance. This is the “truncation error” and depends on the\n",
    "method employed. Other errors that do not originate in the method\n",
    "correspond to the roundoffs performed by the computer, since it does not\n",
    "work with real numbers, but with a finite number of digits determined by\n",
    "the hardware. These roundoff errors will accumulate and can become\n",
    "significant in some cases.\n",
    "\n",
    "In practice we determine the accuracy of our solutions by reducing the\n",
    "value of the step until the solutions unchanged at the desired level of\n",
    "accuracy.\n",
    "\n",
    "In addition to accuracy, another important factor is the stability of\n",
    "the algorithm. For instance, it may occur that the numerical results are\n",
    "very good for short times, but diverge from the “true” solution for\n",
    "longer times. Such an algorithm is said to be “unstable” for the\n",
    "particular problem.\n",
    "\n",
    "\n",
    "\n",
    "\n",
    "\n"
   ]
  }
 ],
 "metadata": {
  "kernelspec": {
   "display_name": "Python 3 (ipykernel)",
   "language": "python",
   "name": "python3"
  },
  "language_info": {
   "codemirror_mode": {
    "name": "ipython",
    "version": 3
   },
   "file_extension": ".py",
   "mimetype": "text/x-python",
   "name": "python",
   "nbconvert_exporter": "python",
   "pygments_lexer": "ipython3",
   "version": "3.11.8"
  }
 },
 "nbformat": 4,
 "nbformat_minor": 4
}
