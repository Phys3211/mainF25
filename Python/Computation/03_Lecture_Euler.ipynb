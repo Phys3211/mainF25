{
 "cells": [
  {
   "cell_type": "markdown",
   "metadata": {},
   "source": [
    "# Ordinary differential equations\n",
    "\n",
    "Let’s consider a simple 1st order equation: \n",
    "\n",
    "$\\frac{dy}{dx}=f(x,y)$\n",
    "\n",
    "To solve this equation with a computer we need to **discretize** the differences: we\n",
    "have to convert the differential equation into a “**finite differences**” equation. The simplest\n",
    "solution is Euler’s method. More advanced (or more involved, maybe) include the 2nd and 4th order Runge-Kutta Methods.\n",
    "\n",
    "## Euler’s method\n",
    "\n",
    "Suppose that at a point $x_0$, the function $f$ has a value $y_0$. We\n",
    "want to find the approximate value of $y$ in a point $x_1$ close to\n",
    "$x_0$, $x_1=x_0+\\Delta x$, with $\\Delta x$ small. We assume that $f$,\n",
    "the rate of change of $y$, is constant in this interval $\\Delta x$.\n",
    "Therefore we find: \n",
    "\n",
    "$$dx \\approx \\Delta x =x_1-x_0\\\\$$\n",
    "$$dy \\approx \\Delta y =y_1-y_0$$\n",
    " \n",
    "with $y_1=y(x_1)=y(x_0+\\Delta x)$. Then we re-write the differential equation in terms of discrete differences as:\n",
    "\n",
    "$$\\frac{\\Delta y}{\\Delta x}=f(x,y)$$\n",
    "\n",
    "or \n",
    "\n",
    "$$\\Delta y = f(x,y)\\Delta x$$\n",
    "\n",
    "and approximate the value of $y_1$ as\n",
    "$y_1=y_0+f(x_0,y_0)(x_1-x_0)$.\n",
    "\n",
    "We can generalize this formula to find\n",
    "the value of $y$ at $x_2=x_1+\\Delta x$ as\n",
    "\n",
    "$y_{2}=y_1+f(x_1,y_1)\\Delta x,$ \n",
    "\n",
    "or in the general case:\n",
    "\n",
    "$y_{n+1}=y_n+f(x_n,y_n)\\Delta x$\n",
    "\n",
    "This is a good approximation as long as $\\Delta x$ is “small”. What is\n",
    "small? Depends on the problem, but it is basically defined by the “rate\n",
    "of change”, or “smoothness” of $f$. $f(x)$ has to behave smoothly and\n",
    "without rapid variations in the interval $\\Delta x$.\n",
    "\n",
    "Notice that Euler’s method is equivalent to a 1st order Taylor expansion\n",
    "about the point $x_0$. "
   ]
  },
  {
   "cell_type": "markdown",
   "metadata": {},
   "source": [
    "### Newton’s law of cooling \n",
    "\n",
    "If the temperature difference between an object and its surroundings is\n",
    "small, the rate of change of the temperature of the object is\n",
    "proportional to the temperature difference: $\\frac{dT}{dt}=-r(T-T_s),$\n",
    "where $T$ is the temperature of the body, $T_s$ is the temperature of\n",
    "the environment, and $r$ is a “cooling constant” that depends on the\n",
    "heat transfer mechanism, the contact area with the environment and the\n",
    "thermal properties of the body. The minus sign appears because if\n",
    "$T>T_s$, the temperature must decrease.\n",
    "\n",
    "Let's write a program to calculate the temperature of a body at a time $t$,\n",
    "given the cooling constant $r$ and the temperature of the body at time\n",
    "$t=0$. Plot the results for $r=0.1\\frac{1}{min}$; $T_s=83^{\\circ} C$, $T_0=10^{\\circ}$\n",
    "using different intervals $\\Delta t$ and compare with exact (analytical)\n",
    "results."
   ]
  },
  {
   "cell_type": "code",
   "execution_count": null,
   "metadata": {},
   "outputs": [],
   "source": [
    "T0 = 10.   # initial temperature\n",
    "Ts = 83.   # temp. of the environment\n",
    "r = 0.1    # cooling rate\n",
    "dt = 0.05  # time step\n",
    "tmax = 60. # maximum time\n",
    "nsteps = int(tmax/dt)  # number of steps"
   ]
  },
  {
   "cell_type": "code",
   "execution_count": null,
   "metadata": {},
   "outputs": [],
   "source": [
    "T = T0\n",
    "my_temp, my_time = [], [] # store temps and times\n",
    "for i in range(1,nsteps+1):\n",
    "    new_T = T - r*(T-Ts)*dt\n",
    "    T = new_T\n",
    "    my_time.append(i*dt)\n",
    "    my_temp.append(T)\n",
    "    if i%100 == 0: print ('{:20.18f}  {:20.18f}  {:20.18f}'.format(i,i*dt, T))\n",
    "    # we can also do T = T - r*(T-Ts)*dt\n",
    "    "
   ]
  },
  {
   "cell_type": "markdown",
   "metadata": {},
   "source": [
    "Let's try plotting the results. We first need to import the required libraries and methods"
   ]
  },
  {
   "cell_type": "code",
   "execution_count": null,
   "metadata": {},
   "outputs": [],
   "source": [
    "import numpy as np\n",
    "from matplotlib import pyplot as plt"
   ]
  },
  {
   "cell_type": "code",
   "execution_count": null,
   "metadata": {},
   "outputs": [],
   "source": [
    "plt.plot(my_time, my_temp, color='#003366', ls='-', lw=3)\n",
    "plt.xlabel('time')\n",
    "plt.ylabel('temperature');"
   ]
  },
  {
   "cell_type": "markdown",
   "metadata": {},
   "source": [
    "Alternatively, and in order to re use code in future problems, we could have created a function `euler` which we could iterate over."
   ]
  },
  {
   "cell_type": "code",
   "execution_count": null,
   "metadata": {},
   "outputs": [],
   "source": [
    "def euler(y, f, dx):\n",
    "    \"\"\"Computes y_new = y + f*dx\n",
    "    \n",
    "    Parameters\n",
    "    ----------\n",
    "    y  : float\n",
    "        old value of y_n at x_n\n",
    "    f  : float\n",
    "        first derivative f(x,y) evaluated at (x_n,y_n)\n",
    "    dx : float\n",
    "        x step\n",
    "    \"\"\"\n",
    "    \n",
    "    return y + f*dx"
   ]
  },
  {
   "cell_type": "code",
   "execution_count": null,
   "metadata": {},
   "outputs": [],
   "source": [
    "T = T0\n",
    "tpoints = [0] \n",
    "for i in range(1,nsteps):\n",
    "    T = euler(T, -r*(T-Ts), dt)\n",
    "    tpoints.append(tpoints[i-1]+dt)\n",
    "    my_temp[i] = T\n"
   ]
  },
  {
   "cell_type": "code",
   "execution_count": null,
   "metadata": {},
   "outputs": [],
   "source": [
    "plt.plot(tpoints,my_temp)\n",
    "plt.xlabel('time (min)')\n",
    "plt.ylabel('temp')"
   ]
  },
  {
   "cell_type": "markdown",
   "metadata": {
    "collapsed": true,
    "jupyter": {
     "outputs_hidden": true
    }
   },
   "source": [
    "Actually, for this particularly simple case, calling a function may introduce unecessary overhead, but it is a an example that we will find useful for future applications. For a simple function like this we could have used a \"lambda\" function (more about lambda functions <a href=\"https://www.geeksforgeeks.org/python-lambda-anonymous-functions-filter-map-reduce/#\">here</a>)."
   ]
  },
  {
   "cell_type": "code",
   "execution_count": null,
   "metadata": {},
   "outputs": [],
   "source": [
    "euler = lambda y, f, dx: y + f*dx "
   ]
  },
  {
   "cell_type": "markdown",
   "metadata": {},
   "source": [
    "Now, let's study the effects of different time steps $dt$ on the convergence. We expect that as $dt$ gets small, the result gets better and better but it's slower and slower"
   ]
  },
  {
   "cell_type": "code",
   "execution_count": null,
   "metadata": {},
   "outputs": [],
   "source": [
    "dt = 1.\n",
    "my_color = ['red', 'green', 'blue', 'black', 'magenta', 'cyan']\n",
    "for j in range(0,6):\n",
    "    nsteps = int(tmax/dt)    #the arrays will have different size for different time steps\n",
    "    my_time = np.linspace(dt,tmax,nsteps) \n",
    "    my_temp = np.zeros(nsteps)\n",
    "    T = T0\n",
    "    for i in range(0,nsteps):\n",
    "        T = euler(T, -r*(T-Ts), dt)\n",
    "        my_temp[i] = T\n",
    "        \n",
    "    plt.plot(my_time, my_temp, color=my_color[j], ls='-', lw=3, label=\"dt=\"+str(dt))\n",
    "    dt = dt/2.\n",
    "\n",
    "plt.xlabel('time');\n",
    "plt.ylabel('temperature');\n",
    "plt.legend()\n",
    "plt.xlim(8,10)\n",
    "plt.ylim(48,58);"
   ]
  },
  {
   "cell_type": "markdown",
   "metadata": {},
   "source": [
    "We see that the gap between the result gets smaller and smaller as $dt$ gets smaller and smaller. This problem is too simple to see the effect of $dt$ on computation time.\n",
    "\n",
    "But on theoretical grounds, how does computation time scale?"
   ]
  },
  {
   "cell_type": "markdown",
   "metadata": {},
   "source": [
    "### Convergence Challenge\n",
    "\n",
    "To properly study convergence, one possibility it so look at the result at a given time, for different time steps. Modify the previous program to print the temperature at $t=10$ as a function of $\\Delta t$. "
   ]
  },
  {
   "cell_type": "code",
   "execution_count": null,
   "metadata": {},
   "outputs": [],
   "source": [
    "dt = 1.\n",
    "dts, temp_at_t10s = [], []\n",
    "for j in range(0,15):\n",
    "    dts.append(dt)\n",
    "    nsteps = int(tmax/dt)    #the arrays will have different size for different time steps\n",
    "    my_time = np.linspace(dt,tmax,nsteps) \n",
    "    my_temp = np.zeros(nsteps)\n",
    "    T = T0\n",
    "    for i in range(0,nsteps):\n",
    "        T = euler(T, -r*(T-Ts), dt)\n",
    "        my_temp[i] = T\n",
    "        \n",
    "    t10_idx = np.where(my_time==10.)[0][0]\n",
    "    temp_at_t10s.append(my_temp[t10_idx])\n",
    "\n",
    "    dt = dt / 2"
   ]
  },
  {
   "cell_type": "code",
   "execution_count": null,
   "metadata": {},
   "outputs": [],
   "source": [
    "plt.scatter(dts, temp_at_t10s)\n",
    "plt.xlabel('time step')\n",
    "plt.ylabel('temp')"
   ]
  },
  {
   "cell_type": "markdown",
   "metadata": {},
   "source": [
    "This shows explicit convergence to a fixed value. We'd also like to see how the temperature differs"
   ]
  },
  {
   "cell_type": "code",
   "execution_count": null,
   "metadata": {},
   "outputs": [],
   "source": [
    "plt.xscale('log')\n",
    "plt.yscale('log')\n",
    "plt.scatter(dts[1:], [abs(temp_at_t10s[i] - temp_at_t10s[i-1]) for i in range(1, len(dts))])\n",
    "plt.xlabel('time step')\n",
    "plt.ylabel('temp change')"
   ]
  },
  {
   "cell_type": "markdown",
   "metadata": {},
   "source": [
    "Such a beautiful line on a log-log scale tells us that the temperature difference for different dts scales as a power law. Let's find out what the exponent is by fitting a line to the data."
   ]
  },
  {
   "cell_type": "code",
   "execution_count": null,
   "metadata": {},
   "outputs": [],
   "source": [
    "# fit line to data\n",
    "from scipy.optimize import curve_fit\n",
    "def func(x, a, b):\n",
    "    return a * x + b\n",
    "\n",
    "popt, pcov = curve_fit(func, np.log(dts[1:]), np.log([abs(temp_at_t10s[i] - temp_at_t10s[i-1]) for i in range(1, len(dts))]))"
   ]
  },
  {
   "cell_type": "code",
   "execution_count": null,
   "metadata": {},
   "outputs": [],
   "source": [
    "popt"
   ]
  },
  {
   "cell_type": "markdown",
   "metadata": {},
   "source": [
    "The slope being $1$ tells us the power law."
   ]
  },
  {
   "cell_type": "markdown",
   "metadata": {},
   "source": [
    "## 2nd-Order Runge-Kutta Method (RK2)\n",
    "\n",
    "The Euler method provides a simple but often inaccurate approach to solving differential equations due to its reliance on a linear approximation. The 2nd-order Runge-Kutta method (RK2) improves upon this by incorporating an intermediate step, leading to greater accuracy.\n",
    "\n",
    "Suppose we have the differential equation: $\\frac{dy}{dx} = f(x, y)$. Given an initial point $(x_0,y_0)$, we approximate the value of $y$ at $x_1 = x_0+\\Delta x$ by taking the average of two slopes:\n",
    "\n",
    "1. Compute an initial estimate of the slope at $(x_0,y_0)$: $$k_1 = f(x_0, y_0)$$\n",
    "2. Use  to estimate $k_1$ at an intermediate point: $y^* = y_0 + k_1 \\frac{\\Delta x}{2}$. Then compute the slope at $(x_0 + \\Delta x/2,y^*)$: $$k_2 = f(x_0 + \\frac{\\Delta x}{2}, y_0 + k_1 \\frac{\\Delta x}{2})$$\n",
    "3. Use $k_2$ to compute the next approximation: $y_1 = y_0 + k_2 \\Delta x$. Or in terms of any step: $$y_{n+1} = y_n + k_2 \\Delta x$$\n",
    "\n",
    "This method is more accurate than Euler's method because it uses an intermediate slope estimate rather than relying solely on the slope at the starting point."
   ]
  },
  {
   "cell_type": "markdown",
   "metadata": {},
   "source": [
    "Let's look at the same cooling law as before, but solve it using the rk2 method."
   ]
  },
  {
   "cell_type": "code",
   "execution_count": null,
   "metadata": {},
   "outputs": [],
   "source": [
    "def rk2(y, f, dx):\n",
    "    \"\"\"\n",
    "    2nd-order Runge-Kutta method for numerical integration.\n",
    "    \n",
    "    Parameters\n",
    "    ----------\n",
    "    y  : float\n",
    "        Old value of y_n at x_n\n",
    "    f  : function\n",
    "        Function f(x, y) representing dy/dx\n",
    "    dx : float\n",
    "        Step size\n",
    "    \n",
    "    Returns\n",
    "    -------\n",
    "    y_new : float\n",
    "        New estimated value of y at x_n+dx\n",
    "    \"\"\"\n",
    "    k1 = f(y)\n",
    "    k2 = f(y + k1 * dx / 2)\n",
    "    return y + k2 * dx"
   ]
  },
  {
   "cell_type": "code",
   "execution_count": null,
   "metadata": {},
   "outputs": [],
   "source": [
    "def cooling(T):\n",
    "    return -r * (T - Ts)\n",
    "# Initial Conditions\n",
    "T0 = 10.  # Initial temperature\n",
    "Ts = 83.   # Surrounding temperature\n",
    "r = 0.1   # Cooling rate\n",
    "nsteps = 600\n",
    "dt = 0.1\n",
    "\n",
    "# Run simulation using RK2\n",
    "T = T0\n",
    "rk2_temps = [T]\n",
    "tpoints = [0]\n",
    "for i in range(1, nsteps):\n",
    "    T = rk2(T, cooling, dt)\n",
    "    rk2_temps.append(T)\n",
    "    tpoints.append(tpoints[i-1] + dt)"
   ]
  },
  {
   "cell_type": "code",
   "execution_count": null,
   "metadata": {
    "scrolled": true
   },
   "outputs": [],
   "source": [
    "plt.plot(tpoints, rk2_temps)"
   ]
  },
  {
   "cell_type": "code",
   "execution_count": null,
   "metadata": {},
   "outputs": [],
   "source": [
    "dt = 1.\n",
    "my_color = ['red', 'green', 'blue', 'black', 'magenta', 'cyan']\n",
    "for j in range(0,6):\n",
    "    nsteps = int(tmax/dt)    #the arrays will have different size for different time steps\n",
    "    my_time = np.linspace(dt,tmax,nsteps) \n",
    "    my_temp = np.zeros(nsteps)\n",
    "    T = T0\n",
    "    for i in range(0,nsteps):\n",
    "        T = euler(T, -r*(T-Ts), dt)\n",
    "        my_temp[i] = T\n",
    "        \n",
    "    plt.plot(my_time, my_temp, color=my_color[j], ls='-', lw=3, label=\"dt=\"+str(dt))\n",
    "    dt = dt/2.\n",
    "\n",
    "plt.xlabel('time');\n",
    "plt.ylabel('temperature');\n",
    "plt.legend()\n",
    "plt.xlim(8,10)\n",
    "plt.ylim(48,58);"
   ]
  },
  {
   "cell_type": "markdown",
   "metadata": {},
   "source": [
    "# Convergence Investigation\n",
    "Repeat the convergence study done for the Euler method above for the 2nd order Runge-Kutta method. Find the power of the step size in which the solution converges."
   ]
  },
  {
   "cell_type": "markdown",
   "metadata": {},
   "source": [
    "## 4th-Order Runge-Kutta Method (RK4)\n",
    "\n",
    "The 4th-order Runge-Kutta method (RK4) is one of the most commonly used numerical methods for solving differential equations due to its balance between accuracy and computational efficiency. It refines the RK2 method by incorporating four estimates of the slope.\n",
    "\n",
    "Given our differential equation: $\\frac{dy}{dx} = f(x, y)$, we can compute the next value of $y_{n+1}$ using 4 intermediate slopes.\n",
    "\n",
    "1. Compute the initial slope at $(x_n,y_n)$: $$k_1 = f(x_n, y_n)$$\n",
    "2. Compute the slope as the midpoint using $k_1$: $$k_2 = f(x_n + \\frac{\\Delta x}{2}, y_n + k_1 \\frac{\\Delta x}{2})$$\n",
    "3. Compute another midterpoint slope using $k_2$: $$k_3 = f(x_n + \\frac{\\Delta x}{2}, y_n + k_2 \\frac{\\Delta x}{2})$$\n",
    "4. Compute the slope at the endpoint using $k_3$: $$k_4 = f(x_n + \\Delta x, y_n + k_3 \\Delta x)$$\n",
    "\n",
    "Using these four slopes, we compute $y_{n+1}$ as a weighted average: $$y_{n+1} = y_n + \\frac{1}{6} (k_1 + 2k_2 + 2k_3 + k_4) \\Delta x$$\n",
    "\n",
    "\n",
    "This method is significantly more accurate than both Euler’s method and RK2, while still being computationally efficient. The weights ensure that the error is minimized up to fourth-order terms in a Taylor expansion."
   ]
  },
  {
   "cell_type": "markdown",
   "metadata": {},
   "source": [
    "We can now look at how the cooling law could be solved using the rk4 method."
   ]
  },
  {
   "cell_type": "code",
   "execution_count": null,
   "metadata": {},
   "outputs": [],
   "source": [
    "def rk4(y, f, dx):\n",
    "    \"\"\"\n",
    "    4th-order Runge-Kutta method for numerical integration.\n",
    "    \n",
    "    Parameters\n",
    "    ----------\n",
    "    y  : float\n",
    "        Old value of y_n at x_n\n",
    "    f  : function\n",
    "        Function f(x, y) representing dy/dx\n",
    "    dx : float\n",
    "        Step size\n",
    "    \n",
    "    Returns\n",
    "    -------\n",
    "    y_new : float\n",
    "        New estimated value of y at x_n+dx\n",
    "    \"\"\"\n",
    "    k1 = f(y)\n",
    "    k2 = f(y + k1 * dx / 2)\n",
    "    k3 = f(y + k2 * dx / 2)\n",
    "    k4 = f(y + k3 * dx)\n",
    "    return y + (dx / 6) * (k1 + 2*k2 + 2*k3 + k4)"
   ]
  },
  {
   "cell_type": "code",
   "execution_count": null,
   "metadata": {},
   "outputs": [],
   "source": [
    "# Run simulation using RK4\n",
    "T = T0\n",
    "rk4_temps = [T]\n",
    "tpoints = [0]\n",
    "for i in range(1, nsteps):\n",
    "    T = rk4(T, cooling, dt)\n",
    "    rk4_temps.append(T)\n",
    "    tpoints.append(tpoints[i-1] + dt)"
   ]
  },
  {
   "cell_type": "code",
   "execution_count": null,
   "metadata": {},
   "outputs": [],
   "source": [
    "plt.plot(tpoints,rk4_temps)"
   ]
  },
  {
   "cell_type": "code",
   "execution_count": null,
   "metadata": {},
   "outputs": [],
   "source": [
    "dt = 1.\n",
    "my_color = ['red', 'green', 'blue', 'black', 'magenta', 'cyan']\n",
    "for j in range(0,6):\n",
    "    nsteps = int(tmax/dt)    #the arrays will have different size for different time steps\n",
    "    my_time = np.linspace(dt,tmax,nsteps) \n",
    "    my_temp = np.zeros(nsteps)\n",
    "    T = T0\n",
    "    for i in range(0,nsteps):\n",
    "        T = euler(T, -r*(T-Ts), dt)\n",
    "        my_temp[i] = T\n",
    "        \n",
    "    plt.plot(my_time, my_temp, color=my_color[j], ls='-', lw=3, label=\"dt=\"+str(dt))\n",
    "    dt = dt/2.\n",
    "\n",
    "plt.xlabel('time');\n",
    "plt.ylabel('temperature');\n",
    "plt.legend()\n",
    "plt.xlim(8,10)\n",
    "plt.ylim(48,58);"
   ]
  },
  {
   "cell_type": "markdown",
   "metadata": {},
   "source": [
    "# Convergence Investigation\n",
    "Repeat the convergence study done for the Euler method above for the 4th order Runge-Kutta method. Find the power of the step size in which the solution converges. The euler method went as $h^1$."
   ]
  },
  {
   "cell_type": "markdown",
   "metadata": {},
   "source": [
    "# Scipy Solve\n",
    "The library scipy contains a useful function `solve_ivp`. This function numerically solves initial value problems (ivp) for ordinary differential equations. `solve_ivp` uses adaptive step size methods to solve first-order ODEs or systems of ODEs. You'll find some oddities in the 4th-order Runge-Kutta method, so watch out."
   ]
  },
  {
   "cell_type": "markdown",
   "metadata": {},
   "source": [
    "## Input Arguments:\n",
    "The syntax of this function is \n",
    "```python\n",
    "solve_ivp(fun, t_space, y0, method, t_eval)\n",
    "```\n",
    "- fun: Function defining $dy/dt = f(t,y)$.\n",
    "- t_span: Tuple $(t0, tf)$ specifying the time range.\n",
    "- y0: Initial condition(s).\n",
    "- method: Numerical solver ('RK23','RK45', 'BDF', etc.).\n",
    "- t_eval: Optional time points for solution evaluation."
   ]
  },
  {
   "cell_type": "code",
   "execution_count": null,
   "metadata": {},
   "outputs": [],
   "source": [
    "from scipy.integrate import solve_ivp\n",
    "# Example ODE: dy/dt = -2y + t\n",
    "def f(t, y): # NOTE the function here must take 2 arg, independent, dependent IN ORDER\n",
    "    return -2 * y + t  \n",
    "\n",
    "sol = solve_ivp(f, (0, 5), [1], method='RK45', t_eval=[0, 1, 2, 3, 4, 5])"
   ]
  },
  {
   "cell_type": "code",
   "execution_count": null,
   "metadata": {},
   "outputs": [],
   "source": [
    "sol.t"
   ]
  },
  {
   "cell_type": "code",
   "execution_count": null,
   "metadata": {},
   "outputs": [],
   "source": [
    "sol.y"
   ]
  },
  {
   "cell_type": "code",
   "execution_count": null,
   "metadata": {},
   "outputs": [],
   "source": [
    "sol.success"
   ]
  },
  {
   "cell_type": "markdown",
   "metadata": {},
   "source": [
    "## Newton's cooling law\n",
    "`solve_ivp` can solve Newton's cooling law in the same way as we do above, but we can leave more information about how to solve undetermined."
   ]
  },
  {
   "cell_type": "code",
   "execution_count": null,
   "metadata": {},
   "outputs": [],
   "source": [
    "r = 0.1   # Cooling rate\n",
    "Ts = 83.   # Surrounding temperature\n",
    "cool = lambda t, T: -r * (T - Ts)\n",
    "# Initial Conditions\n",
    "T0 = 10.  # Initial temperature\n",
    "\n",
    "sol = solve_ivp(cool, (0,60), [T0], dense_output=True)"
   ]
  },
  {
   "cell_type": "code",
   "execution_count": null,
   "metadata": {},
   "outputs": [],
   "source": [
    "plt.plot(sol.t, sol.y[0], tpoints, rk4_temps)"
   ]
  }
 ],
 "metadata": {
  "kernelspec": {
   "display_name": "Python 3 (ipykernel)",
   "language": "python",
   "name": "python3"
  },
  "language_info": {
   "codemirror_mode": {
    "name": "ipython",
    "version": 3
   },
   "file_extension": ".py",
   "mimetype": "text/x-python",
   "name": "python",
   "nbconvert_exporter": "python",
   "pygments_lexer": "ipython3",
   "version": "3.11.8"
  }
 },
 "nbformat": 4,
 "nbformat_minor": 4
}
