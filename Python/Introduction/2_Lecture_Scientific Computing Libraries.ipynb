{
 "cells": [
  {
   "cell_type": "markdown",
   "id": "46319c91",
   "metadata": {},
   "source": [
    "# Scientific Computing Libraries\n",
    "\n",
    "Some essential scientific computing libraries in python are \n",
    "- [NumPy](https://numpy.org/): Numerical Python\n",
    "- [SciPy](https://www.scipy.org/): Scientific Python\n",
    "- [Matplotlib](https://matplotlib.org/): Plotting library\n",
    "- [Seaborn](https://seaborn.pydata.org/): Statistical data visualization\n",
    "- [Pandas](https://pandas.pydata.org/): Data analysis library\n",
    "- [SymPy](https://www.sympy.org/en/index.html): Symbolic Python\n",
    "\n",
    "You saw some of these utilized in the previous lecture, but in this lecture we'll introduce them a little more thoroughly."
   ]
  },
  {
   "cell_type": "markdown",
   "id": "4f894278",
   "metadata": {},
   "source": [
    "# NumPy\n",
    "\n",
    "Numpy is the fundamental package for scientific computing in Python. It provides a multidimensional array object, various derived objects (such as masked arrays and matrices), and an assortment of routines for fast operations on arrays, including mathematical, logical, shape manipulation, sorting, selecting, I/O, discrete Fourier transforms, basic linear algebra, basic statistical operations, random simulation and much more."
   ]
  },
  {
   "cell_type": "code",
   "execution_count": 1,
   "id": "5dc6d5c9",
   "metadata": {},
   "outputs": [],
   "source": [
    "import numpy as np"
   ]
  },
  {
   "cell_type": "markdown",
   "id": "291cec8b",
   "metadata": {},
   "source": [
    "## Numpy Essentials\n",
    "\n",
    "To get used to some of the operators, we'll create some random arrays. Functions that do this in numpy include `np.random.rand` and `np.random.randn`. The first creates an array of random numbers between 0 and 1, while the second creates an array of random numbers from a standard normal distribution.\n",
    "\n",
    "If you want to create an array of random integers, you can use `np.random.randint`. We'll use this for now to keep our math simpler."
   ]
  },
  {
   "cell_type": "code",
   "execution_count": 3,
   "id": "22459a84",
   "metadata": {},
   "outputs": [
    {
     "data": {
      "text/plain": [
       "array([7, 9, 7, 1, 6])"
      ]
     },
     "execution_count": 3,
     "metadata": {},
     "output_type": "execute_result"
    }
   ],
   "source": [
    "np.random.randint(0,10,size=5) # 5 random integers between 0 and 10"
   ]
  },
  {
   "cell_type": "code",
   "execution_count": 5,
   "id": "27587a11",
   "metadata": {},
   "outputs": [
    {
     "name": "stdout",
     "output_type": "stream",
     "text": [
      "[6 9] [8 4]\n"
     ]
    }
   ],
   "source": [
    "a, b = np.random.randint(1,10,size=2), np.random.randint(0,10,size=2)\n",
    "print(a,b)"
   ]
  },
  {
   "cell_type": "markdown",
   "id": "3637ecce",
   "metadata": {},
   "source": [
    "Let's do some basic operations"
   ]
  },
  {
   "cell_type": "code",
   "execution_count": 7,
   "id": "9c8880f0",
   "metadata": {},
   "outputs": [
    {
     "name": "stdout",
     "output_type": "stream",
     "text": [
      "[14 13]\n",
      "[-2  5]\n",
      "[48 36]\n",
      "[0.75 2.25]\n"
     ]
    }
   ],
   "source": [
    "print(a+b)\n",
    "print(a-b)\n",
    "print(a*b)\n",
    "print(a/b)"
   ]
  },
  {
   "cell_type": "markdown",
   "id": "de3c6b1b",
   "metadata": {},
   "source": [
    "Note: it wasn't obvious, a priori, what to expect for division and multiplication, since these are vectors. However, we see that it does element-wise multiplication and division.\n",
    "\n",
    "This isn't something we normally do in standard linear algebra, so let's so some of that with some 2x2 matrices."
   ]
  },
  {
   "cell_type": "code",
   "execution_count": 21,
   "id": "b2aa190b",
   "metadata": {},
   "outputs": [
    {
     "name": "stdout",
     "output_type": "stream",
     "text": [
      "[[8 9]\n",
      " [1 2]]\n",
      "[[6 5]\n",
      " [0 8]]\n"
     ]
    }
   ],
   "source": [
    "a,b = np.random.randint(1,10,size=(2,2)), np.random.randint(0,10,size=(2,2)) \n",
    "print(a)\n",
    "print(b)"
   ]
  },
  {
   "cell_type": "markdown",
   "id": "fc8a2adc",
   "metadata": {},
   "source": [
    "We can always see the shape of an array with the `shape` attribute."
   ]
  },
  {
   "cell_type": "code",
   "execution_count": null,
   "id": "0db90802",
   "metadata": {},
   "outputs": [],
   "source": [
    "a.shape"
   ]
  },
  {
   "cell_type": "markdown",
   "id": "e9f73029",
   "metadata": {},
   "source": [
    "Let's multiply"
   ]
  },
  {
   "cell_type": "code",
   "execution_count": 23,
   "id": "288c0fae-7387-463a-a481-f8b25b2fcd38",
   "metadata": {
    "scrolled": true
   },
   "outputs": [
    {
     "data": {
      "text/plain": [
       "array([[ 48, 112],\n",
       "       [  6,  21]])"
      ]
     },
     "execution_count": 23,
     "metadata": {},
     "output_type": "execute_result"
    }
   ],
   "source": [
    "a@b"
   ]
  },
  {
   "cell_type": "code",
   "execution_count": 25,
   "id": "170a64cb-1e53-464e-84a1-714bbd4827f4",
   "metadata": {
    "scrolled": true
   },
   "outputs": [
    {
     "data": {
      "text/plain": [
       "array([[ 48, 112],\n",
       "       [  6,  21]])"
      ]
     },
     "execution_count": 25,
     "metadata": {},
     "output_type": "execute_result"
    }
   ],
   "source": [
    "np.matmul(a,b)"
   ]
  },
  {
   "cell_type": "code",
   "execution_count": 27,
   "id": "2b2cd5c9-6621-4b77-bb3e-86f194840644",
   "metadata": {},
   "outputs": [],
   "source": [
    "my_mat = a@np.linalg.inv(a)"
   ]
  },
  {
   "cell_type": "code",
   "execution_count": 17,
   "id": "570232d7-5682-41ab-b24d-1a92ecda1e12",
   "metadata": {
    "scrolled": true
   },
   "outputs": [
    {
     "data": {
      "text/plain": [
       "array([[1., 0.],\n",
       "       [0., 1.]])"
      ]
     },
     "execution_count": 17,
     "metadata": {},
     "output_type": "execute_result"
    }
   ],
   "source": [
    "np.eye(2)"
   ]
  },
  {
   "cell_type": "code",
   "execution_count": 31,
   "id": "c64b9253-82b7-4780-a4ca-79b34d8c5dda",
   "metadata": {},
   "outputs": [
    {
     "name": "stdout",
     "output_type": "stream",
     "text": [
      "[[1.0000000e+00 4.4408921e-16]\n",
      " [0.0000000e+00 1.0000000e+00]]\n"
     ]
    }
   ],
   "source": [
    "my_mat == np.eye(2)\n",
    "print(my_mat)"
   ]
  },
  {
   "cell_type": "code",
   "execution_count": 33,
   "id": "3dd5efab-7119-49d3-bb1f-cbb07aad8060",
   "metadata": {},
   "outputs": [
    {
     "data": {
      "text/plain": [
       "True"
      ]
     },
     "execution_count": 33,
     "metadata": {},
     "output_type": "execute_result"
    }
   ],
   "source": [
    "np.allclose(my_mat,np.eye(2))"
   ]
  },
  {
   "cell_type": "markdown",
   "id": "b4eacdec",
   "metadata": {},
   "source": [
    "## Numpy Linear Algebra\n",
    "\n",
    "Ok, so we see the NumPy can do some linear algebra. What about some other operations?\n",
    "\n",
    "Some of the most essential operations in `np.linalg` are:\n",
    "- `np.linalg.inv`: Inverse of a matrix\n",
    "- `np.linalg.det`: Determinant of a matrix\n",
    "- `np.linalg.eig`: Eigenvalues and eigenvectors of a matrix\n",
    "- `np.linalg.solve`: Solve a linear system of equations\n",
    "\n",
    "We saw the first, let's see the rest"
   ]
  },
  {
   "cell_type": "code",
   "execution_count": 35,
   "id": "0c03a332",
   "metadata": {},
   "outputs": [
    {
     "data": {
      "text/plain": [
       "6.999999999999998"
      ]
     },
     "execution_count": 35,
     "metadata": {},
     "output_type": "execute_result"
    }
   ],
   "source": [
    "np.linalg.det(a)"
   ]
  },
  {
   "cell_type": "code",
   "execution_count": 37,
   "id": "c1af1d41",
   "metadata": {},
   "outputs": [
    {
     "data": {
      "text/plain": [
       "EigResult(eigenvalues=array([9.24264069, 0.75735931]), eigenvectors=array([[ 0.99060233, -0.77906503],\n",
       "       [ 0.13677364,  0.62694312]]))"
      ]
     },
     "execution_count": 37,
     "metadata": {},
     "output_type": "execute_result"
    }
   ],
   "source": [
    "np.linalg.eig(a)"
   ]
  },
  {
   "cell_type": "code",
   "execution_count": 39,
   "id": "5b549f84",
   "metadata": {},
   "outputs": [
    {
     "name": "stdout",
     "output_type": "stream",
     "text": [
      "Left: [9.15578138 1.26414961]\n",
      "Right: [9.15578138 1.26414961]\n",
      "Left: [-0.59003216  0.47482121]\n",
      "Right: [-0.59003216  0.47482121]\n"
     ]
    }
   ],
   "source": [
    "# check the eigenvectors\n",
    "eigvals, eigvecs = np.linalg.eig(a) \n",
    "for i in range(len(eigvals)):\n",
    "    print(\"Left:\",np.dot(a,eigvecs[:,i]))\n",
    "    print(\"Right:\", eigvals[i]*eigvecs[:,i])"
   ]
  },
  {
   "cell_type": "code",
   "execution_count": 45,
   "id": "e741997b-4cee-4a06-a84c-75a99553c121",
   "metadata": {},
   "outputs": [
    {
     "data": {
      "text/plain": [
       "array([ 0.99060233, -0.77906503])"
      ]
     },
     "execution_count": 45,
     "metadata": {},
     "output_type": "execute_result"
    }
   ],
   "source": [
    "eigvecs[0]"
   ]
  },
  {
   "cell_type": "markdown",
   "id": "6ceea5ce",
   "metadata": {},
   "source": [
    "In this syntax `eigvecs[:,i]` means \"all rows, column i\". This is a common syntax in python, and is called \"slicing\". We'll see it again later.\n",
    "\n",
    "In the context of this eigenvalue problem, if we're not careful we can do the wrong thing, because eigvecs is a matrix and we need to be careful whether the rows or columns are the eigenvectors. Let's see what happens if we do the wrong thing."
   ]
  },
  {
   "cell_type": "code",
   "execution_count": 47,
   "id": "e7b5b02c",
   "metadata": {},
   "outputs": [
    {
     "name": "stdout",
     "output_type": "stream",
     "text": [
      "Left: [ 0.91323334 -0.56752773]\n",
      "Right: [ 9.15578138 -7.20061815]\n",
      "Left: [6.73667721 1.39065988]\n",
      "Right: [0.10358679 0.47482121]\n"
     ]
    }
   ],
   "source": [
    "# check the eigenvectors\n",
    "eigvals, eigvecs = np.linalg.eig(a) \n",
    "for i in range(len(eigvals)):\n",
    "    print(\"Left:\",np.dot(a,eigvecs[i]))\n",
    "    print(\"Right:\", eigvals[i]*eigvecs[i])"
   ]
  },
  {
   "cell_type": "markdown",
   "id": "5bef681b",
   "metadata": {},
   "source": [
    "We see these clearly don't match.\n",
    "\n",
    "So: just be careful. Simple tests can always help you sort things out"
   ]
  },
  {
   "cell_type": "markdown",
   "id": "a538a773",
   "metadata": {},
   "source": [
    "## Numpy Statistics\n",
    "\n",
    "Some of the essential statistical tools in numpy are in `np.random` and `np.linalg`. We'll see some of these in action. Some of the most essential functions are:\n",
    "- `np.random.rand`: Uniform random numbers in [0,1]\n",
    "- `np.random.randn`: Standard normal random numbers\n",
    "- `np.random.randint`: Random integers\n",
    "- `np.random.choice`: Random choice from an array\n",
    "- `np.random.shuffle`: Randomly shuffle an array\n",
    "- `np.random.seed`: Set the random seed\n",
    "- `np.mean`: Mean of an array\n",
    "- `np.std`: Standard deviation of an array\n",
    "- `np.var`: Variance of an array, which is the square of the standard deviation\n",
    "- `np.cov`: Covariance matrix of an array, which is a matrix of all pairwise covariances. The diagional part of the covariance matrix is the variance of each variable."
   ]
  },
  {
   "cell_type": "code",
   "execution_count": 49,
   "id": "49ac1779",
   "metadata": {},
   "outputs": [],
   "source": [
    "a = np.random.randint(1, 10, size=(3,3))"
   ]
  },
  {
   "cell_type": "code",
   "execution_count": 53,
   "id": "b9b59efb",
   "metadata": {},
   "outputs": [
    {
     "name": "stdout",
     "output_type": "stream",
     "text": [
      "[[2 1 5]\n",
      " [8 2 3]\n",
      " [5 2 7]]\n"
     ]
    }
   ],
   "source": [
    "print(a)"
   ]
  },
  {
   "cell_type": "markdown",
   "id": "e0ef7e6b",
   "metadata": {},
   "source": [
    "Let's play with mean"
   ]
  },
  {
   "cell_type": "code",
   "execution_count": 51,
   "id": "beab178a",
   "metadata": {},
   "outputs": [
    {
     "data": {
      "text/plain": [
       "3.888888888888889"
      ]
     },
     "execution_count": 51,
     "metadata": {},
     "output_type": "execute_result"
    }
   ],
   "source": [
    "np.mean(a)"
   ]
  },
  {
   "cell_type": "markdown",
   "id": "022f7082",
   "metadata": {},
   "source": [
    "That's the mean of the whole thing! What if we want the mean of each row?"
   ]
  },
  {
   "cell_type": "code",
   "execution_count": 55,
   "id": "96fb5e41",
   "metadata": {},
   "outputs": [
    {
     "data": {
      "text/plain": [
       "array([2.66666667, 4.33333333, 4.66666667])"
      ]
     },
     "execution_count": 55,
     "metadata": {},
     "output_type": "execute_result"
    }
   ],
   "source": [
    "np.mean(a,axis=1)"
   ]
  },
  {
   "cell_type": "markdown",
   "id": "d68fc704",
   "metadata": {},
   "source": [
    "And the mean of each column?"
   ]
  },
  {
   "cell_type": "code",
   "execution_count": 57,
   "id": "a2abf3b0",
   "metadata": {},
   "outputs": [
    {
     "data": {
      "text/plain": [
       "array([5.        , 1.66666667, 5.        ])"
      ]
     },
     "execution_count": 57,
     "metadata": {},
     "output_type": "execute_result"
    }
   ],
   "source": [
    "np.mean(a,axis=0)"
   ]
  },
  {
   "cell_type": "markdown",
   "id": "d0256603",
   "metadata": {},
   "source": [
    "These shapes are the same, so be careful.\n",
    "\n",
    "A lot of the other functions take an axis argument in a similar way."
   ]
  },
  {
   "cell_type": "markdown",
   "id": "7ef9fc20",
   "metadata": {},
   "source": [
    "Let's check out choice"
   ]
  },
  {
   "cell_type": "code",
   "execution_count": 67,
   "id": "ec06c176",
   "metadata": {},
   "outputs": [
    {
     "name": "stdout",
     "output_type": "stream",
     "text": [
      "[1 3 5 2 4]\n"
     ]
    },
    {
     "ename": "ValueError",
     "evalue": "Cannot take a larger sample than population when 'replace=False'",
     "output_type": "error",
     "traceback": [
      "\u001b[1;31m---------------------------------------------------------------------------\u001b[0m",
      "\u001b[1;31mValueError\u001b[0m                                Traceback (most recent call last)",
      "Cell \u001b[1;32mIn[67], line 3\u001b[0m\n\u001b[0;32m      1\u001b[0m a \u001b[38;5;241m=\u001b[39m np\u001b[38;5;241m.\u001b[39marray([\u001b[38;5;241m1\u001b[39m,\u001b[38;5;241m2\u001b[39m,\u001b[38;5;241m3\u001b[39m,\u001b[38;5;241m4\u001b[39m,\u001b[38;5;241m5\u001b[39m])\n\u001b[0;32m      2\u001b[0m \u001b[38;5;28mprint\u001b[39m(np\u001b[38;5;241m.\u001b[39mrandom\u001b[38;5;241m.\u001b[39mchoice(a,\u001b[38;5;241m5\u001b[39m))\n\u001b[1;32m----> 3\u001b[0m \u001b[38;5;28mprint\u001b[39m(np\u001b[38;5;241m.\u001b[39mrandom\u001b[38;5;241m.\u001b[39mchoice(a,\u001b[38;5;241m6\u001b[39m,replace\u001b[38;5;241m=\u001b[39m\u001b[38;5;28;01mFalse\u001b[39;00m))\n",
      "File \u001b[1;32mnumpy\\\\random\\\\mtrand.pyx:1001\u001b[0m, in \u001b[0;36mnumpy.random.mtrand.RandomState.choice\u001b[1;34m()\u001b[0m\n",
      "\u001b[1;31mValueError\u001b[0m: Cannot take a larger sample than population when 'replace=False'"
     ]
    }
   ],
   "source": [
    "a = np.array([1,2,3,4,5])\n",
    "print(np.random.choice(a,5))\n",
    "print(np.random.choice(a,6,replace=False))"
   ]
  },
  {
   "cell_type": "markdown",
   "id": "9d6c1838",
   "metadata": {},
   "source": [
    "## Numpy Code Lab\n",
    "\n",
    "Let's do a simple example from quantum mechanics. The problem is perturbation theory,\n",
    "\n",
    "$H = H_0 + \\lambda H_1$\n",
    "\n",
    "where $H$ is the Hamiltonian and $\\lambda$ is a small parameter if perturbation theory is to work. If this is a good idea, it should work pretty well for *any* Hermitian $H_0$ and $H_1$. So we'll make them random Hermitian 3x3 matrices and see what happens."
   ]
  },
  {
   "cell_type": "code",
   "execution_count": 75,
   "id": "a6bc8aec",
   "metadata": {},
   "outputs": [
    {
     "name": "stdout",
     "output_type": "stream",
     "text": [
      "[[-2.53777    -2.30329735 -0.52659051]\n",
      " [-2.30329735 -0.60364264 -0.3936045 ]\n",
      " [-0.52659051 -0.3936045  -2.32734523]]\n"
     ]
    }
   ],
   "source": [
    "H0 = np.random.normal(0, 1, size=(3,3))\n",
    "# make it Hermitian??\n",
    "H0 = H0+H0.T\n",
    "print(H0)"
   ]
  },
  {
   "cell_type": "code",
   "execution_count": null,
   "id": "a487938c",
   "metadata": {},
   "outputs": [],
   "source": []
  },
  {
   "cell_type": "code",
   "execution_count": 79,
   "id": "38c9532d",
   "metadata": {},
   "outputs": [],
   "source": [
    "H1 = np.random.normal(0, 1, size=(3,3))\n",
    "# make it Hermitian\n",
    "H1 = H1 + H1.T"
   ]
  },
  {
   "cell_type": "code",
   "execution_count": 87,
   "id": "9290b9ee-16a8-434b-bc85-53775445aba3",
   "metadata": {},
   "outputs": [
    {
     "name": "stdout",
     "output_type": "stream",
     "text": [
      "\n",
      "lambda: 1\n",
      "Exact Energy: [-7.55557924 -1.5773497  -2.57118284]\n",
      "Perturbative Energy: [-2.27190034 -7.2056042  -2.22660722]\n",
      "\n",
      "lambda: 0.1\n",
      "Exact Energy: [ 0.61012464 -4.58609361 -2.1163243 ]\n",
      "Perturbative Energy: [ 0.60781802 -4.58023639 -2.11987489]\n",
      "\n",
      "lambda: 0.01\n",
      "Exact Energy: [ 0.89581207 -4.31776324 -2.10916024]\n",
      "Perturbative Energy: [ 0.89578986 -4.31769961 -2.10920166]\n",
      "\n",
      "lambda: 0.001\n",
      "Exact Energy: [ 0.92458726 -4.29144658 -2.10813391]\n",
      "Perturbative Energy: [ 0.92458704 -4.29144593 -2.10813433]\n"
     ]
    }
   ],
   "source": [
    "lambdas = [10**(-k) for k in range(0,4)]\n",
    "for lam in lambdas:\n",
    "    H = H0 + lam*H1\n",
    "    H_evals, H_evecs = np.linalg.eig(H)\n",
    "\n",
    "    H0_evals, H0_evecs = np.linalg.eig(H0)\n",
    "    H0_diag = H0_evecs.T@H0@H0_evecs \n",
    "\n",
    "    PT_matrix_elements = H0_evecs.T@H0@H0_evecs + lam*H0_evecs.T@H1@H0_evecs \n",
    "    H_evals_PT = np.diag(PT_matrix_elements)\n",
    "\n",
    "    print('\\nlambda:', lam)\n",
    "    print('Exact Energy:',H_evals)\n",
    "    print('Perturbative Energy:', H_evals_PT)\n"
   ]
  },
  {
   "cell_type": "markdown",
   "id": "f74f7178",
   "metadata": {},
   "source": [
    "We see it with our naked eye. Let's make it more quantitative by computing mean squared error of the exact energies relative to the perturbation theory energies, and plotting it"
   ]
  },
  {
   "cell_type": "code",
   "execution_count": null,
   "id": "76e25e89",
   "metadata": {},
   "outputs": [],
   "source": [
    "lambdas = [10**-k for k in range(0, 20)]\n",
    "avg_mses = []\n",
    "for lam in lambdas:\n",
    "    H = H0 + lam*H1\n",
    "    H_evals, H_evecs = np.linalg.eig(H)\n",
    "\n",
    "    H0_evals, H0_evecs = np.linalg.eig(H0)\n",
    "    H0_diag = H0_evecs.T@H0@H0_evecs\n",
    "\n",
    "    PT_matrix_elements = H0_evecs.T@H0@H0_evecs + lam*H0_evecs.T@H1@H0_evecs \n",
    "    H_evals_PT = np.diag(PT_matrix_elements) \n",
    "\n",
    "    avg_mse = np.mean((H_evals - H_evals_PT)**2)\n",
    "    avg_mses.append(avg_mse)\n",
    "\n",
    "\n",
    "    "
   ]
  },
  {
   "cell_type": "markdown",
   "id": "c6d158c2",
   "metadata": {},
   "source": [
    "We see that when $\\lambda$ is small, the perturbation theory energies are a good approximation to the exact energies, but when $\\lambda$ is $\\mathcal{O}(1)$, the MSE is large. \n",
    "\n",
    "This is a good sanity check, but we need to actually show that the corrections are $O(\\lambda^2)$ if we did everything right. So let's do one more calculation, and remember to take the sqrt of the MSE for the sake of units."
   ]
  },
  {
   "cell_type": "code",
   "execution_count": 8,
   "id": "82330ae0",
   "metadata": {},
   "outputs": [
    {
     "ename": "NameError",
     "evalue": "name 'H0' is not defined",
     "output_type": "error",
     "traceback": [
      "\u001b[1;31m---------------------------------------------------------------------------\u001b[0m",
      "\u001b[1;31mNameError\u001b[0m                                 Traceback (most recent call last)",
      "Cell \u001b[1;32mIn[8], line 6\u001b[0m\n\u001b[0;32m      4\u001b[0m avg_sqrtmses \u001b[38;5;241m=\u001b[39m []\n\u001b[0;32m      5\u001b[0m \u001b[38;5;28;01mfor\u001b[39;00m lam \u001b[38;5;129;01min\u001b[39;00m lambdas:\n\u001b[1;32m----> 6\u001b[0m     H \u001b[38;5;241m=\u001b[39m H0 \u001b[38;5;241m+\u001b[39m lam\u001b[38;5;241m*\u001b[39mH1\n\u001b[0;32m      7\u001b[0m     H_evals, H_evecs \u001b[38;5;241m=\u001b[39m np\u001b[38;5;241m.\u001b[39mlinalg\u001b[38;5;241m.\u001b[39meig(H)\n\u001b[0;32m      9\u001b[0m     H0_evals, H0_evecs \u001b[38;5;241m=\u001b[39m np\u001b[38;5;241m.\u001b[39mlinalg\u001b[38;5;241m.\u001b[39meig(H0)\n",
      "\u001b[1;31mNameError\u001b[0m: name 'H0' is not defined"
     ]
    }
   ],
   "source": [
    "from matplotlib import pyplot as plt \n",
    "\n",
    "lambdas =[2**-k for k in range(6,20)] # denser lambdas, range chosen to get nice line\n",
    "avg_sqrtmses = []\n",
    "for lam in lambdas:\n",
    "    H = H0 + lam*H1\n",
    "    H_evals, H_evecs = np.linalg.eig(H)\n",
    "\n",
    "    H0_evals, H0_evecs = np.linalg.eig(H0)\n",
    "    H0_diag = H0_evecs.T@H0@H0_evecs\n",
    "\n",
    "    PT_matrix_elements = H0_evecs.T @ H0 @ H0_evecs + lam*H0_evecs.T@H1@H0_evecs\n",
    "    H_evals_PT = np.diag(PT_matrix_elements)\n",
    "\n",
    "    avg_sqrtmse = np.mean(np.sqrt(((H_evals - H_evals_PT)**2)))\n",
    "    avg_sqrtmses.append(avg_sqrtmse)\n",
    "\n",
    "plt.scatter(lambdas, avg_sqrtmses)\n",
    "plt.xscale('log')\n",
    "plt.xlabel('eigenvalues ($\\lambda$)')\n",
    "plt.yscale('log')\n",
    "plt.ylabel('RMS values ($\\sim \\lambda^2$)')\n",
    "plt.show()\n",
    "best_fit_line = np.polyfit(np.log10(lambdas), np.log10(avg_sqrtmses), 1)\n",
    "print(best_fit_line)"
   ]
  },
  {
   "cell_type": "markdown",
   "id": "734caa8c",
   "metadata": {},
   "source": [
    "# SciPy\n",
    "\n",
    "SciPy is a collection of mathematical algorithms and convenience functions built on the Numpy extension of Python. Some of the main things it provides are functions for:\n",
    "- Special functions (scipy.special)\n",
    "- Integration (scipy.integrate)\n",
    "- Optimization (scipy.optimize)\n"
   ]
  },
  {
   "cell_type": "markdown",
   "id": "8c1bbb79",
   "metadata": {},
   "source": [
    "## SciPy Special Function\n",
    "\n",
    "We'll play with SciPy special functions using the simply harmonic oscillator. The wavefunctions are given by Hermite polynomials times Gaussians, which are implemented in `scipy.special.hermite`. Let's plot the first few."
   ]
  },
  {
   "cell_type": "code",
   "execution_count": 10,
   "id": "8810cfce",
   "metadata": {},
   "outputs": [
    {
     "data": {
      "image/png": "[encoded data removed]",
      "text/plain": [
       "<Figure size 320x240 with 1 Axes>"
      ]
     },
     "metadata": {},
     "output_type": "display_data"
    },
    {
     "data": {
      "image/png": "[encoded data removed]",
      "text/plain": [
       "<Figure size 320x240 with 1 Axes>"
      ]
     },
     "metadata": {},
     "output_type": "display_data"
    },
    {
     "data": {
      "image/png": "[encoded data removed]",
      "text/plain": [
       "<Figure size 320x240 with 1 Axes>"
      ]
     },
     "metadata": {},
     "output_type": "display_data"
    },
    {
     "data": {
      "image/png": "[encoded data removed]",
      "text/plain": [
       "<Figure size 320x240 with 1 Axes>"
      ]
     },
     "metadata": {},
     "output_type": "display_data"
    },
    {
     "data": {
      "image/png": "[encoded data removed]",
      "text/plain": [
       "<Figure size 320x240 with 1 Axes>"
      ]
     },
     "metadata": {},
     "output_type": "display_data"
    }
   ],
   "source": [
    "import math\n",
    "import scipy\n",
    "import numpy as np\n",
    "\n",
    "# set default dpi to 50\n",
    "plt.rcParams['figure.dpi'] = 50\n",
    "\n",
    "hermite_polys = [scipy.special.hermite(i) for i in range(0, 5)]\n",
    "\n",
    "def SHO_wvfn(x, n):\n",
    "    unnorm = np.exp(-x**2/2.0) * hermite_polys[n](x) \n",
    "    return unnorm / np.sqrt(np.sum(unnorm**2))\n",
    "\n",
    "x =  np.linspace(-5,5,100)#100 points between -5 and 5\n",
    "\n",
    "wvfns = [SHO_wvfn(x, n) for n in range(0, 5)] # first 5 wvfns\n",
    "for y in wvfns:\n",
    "    plt.scatter(x,y)\n",
    "    plt.show()\n"
   ]
  },
  {
   "cell_type": "markdown",
   "id": "39d90312",
   "metadata": {},
   "source": [
    "# SymPy\n",
    "\n",
    "SymPy is a Python library for symbolic mathematics. It aims to become a full-featured computer algebra system (CAS) while keeping the code as simple as possible in order to be comprehensible and easily extensible. SymPy is written entirely in Python and does not require any external libraries.\n",
    "\n",
    "Some of the essential things you can do with it are:\n",
    "- Symbolic algebra\n",
    "- Calculus\n",
    "- Solving equations\n",
    "- Discrete math\n",
    "- Geometry"
   ]
  },
  {
   "cell_type": "markdown",
   "id": "5046674f",
   "metadata": {},
   "source": [
    "Symbolic Algebra Example"
   ]
  },
  {
   "cell_type": "code",
   "execution_count": 12,
   "id": "abc288bb",
   "metadata": {},
   "outputs": [
    {
     "name": "stdout",
     "output_type": "stream",
     "text": [
      "(x + y)**2\n"
     ]
    }
   ],
   "source": [
    "import sympy as sp \n",
    "\n",
    "x = sp.Symbol('x')\n",
    "y = sp.Symbol('y')\n",
    "z = sp.Symbol('z')\n",
    "expr = (x+y)**2\n",
    "print(expr)"
   ]
  },
  {
   "cell_type": "code",
   "execution_count": null,
   "id": "52b2eb72",
   "metadata": {},
   "outputs": [],
   "source": [
    "# What can we do with this?"
   ]
  },
  {
   "cell_type": "code",
   "execution_count": 16,
   "id": "6c59ab6b",
   "metadata": {},
   "outputs": [
    {
     "name": "stdout",
     "output_type": "stream",
     "text": [
      "x**2 + 2*x*y + y**2\n"
     ]
    }
   ],
   "source": [
    "expr2 = expr.expand()\n",
    "print(expr2)"
   ]
  },
  {
   "cell_type": "code",
   "execution_count": 18,
   "id": "0d19f394",
   "metadata": {},
   "outputs": [
    {
     "data": {
      "text/latex": [
       "$\\displaystyle \\left(x + y\\right)^{2}$"
      ],
      "text/plain": [
       "(x + y)**2"
      ]
     },
     "execution_count": 18,
     "metadata": {},
     "output_type": "execute_result"
    }
   ],
   "source": [
    "expr2.factor()"
   ]
  },
  {
   "cell_type": "code",
   "execution_count": 20,
   "id": "0b982c53",
   "metadata": {},
   "outputs": [
    {
     "name": "stdout",
     "output_type": "stream",
     "text": [
      "2*x + 2*y\n"
     ]
    }
   ],
   "source": [
    "print(expr2.diff(x))"
   ]
  },
  {
   "cell_type": "code",
   "execution_count": 22,
   "id": "e3b65d7b",
   "metadata": {},
   "outputs": [
    {
     "name": "stdout",
     "output_type": "stream",
     "text": [
      "2\n"
     ]
    }
   ],
   "source": [
    "print(expr2.diff(x).diff(y))"
   ]
  },
  {
   "cell_type": "code",
   "execution_count": 24,
   "id": "e9ce1254",
   "metadata": {},
   "outputs": [
    {
     "data": {
      "text/latex": [
       "$\\displaystyle \\frac{x^{3}}{3} + x^{2} y + x y^{2}$"
      ],
      "text/plain": [
       "x**3/3 + x**2*y + x*y**2"
      ]
     },
     "execution_count": 24,
     "metadata": {},
     "output_type": "execute_result"
    }
   ],
   "source": [
    "expr2.integrate(x)"
   ]
  },
  {
   "cell_type": "markdown",
   "id": "1f02d75e",
   "metadata": {},
   "source": [
    "Let's try to solve some equations."
   ]
  },
  {
   "cell_type": "code",
   "execution_count": 34,
   "id": "2a98515c",
   "metadata": {},
   "outputs": [
    {
     "data": {
      "text/latex": [
       "$\\displaystyle 25.0$"
      ],
      "text/plain": [
       "25.0000000000000"
      ]
     },
     "execution_count": 34,
     "metadata": {},
     "output_type": "execute_result"
    }
   ],
   "source": [
    "expr2.evalf(subs = {x:2,y:3})"
   ]
  },
  {
   "cell_type": "code",
   "execution_count": 38,
   "id": "b66ee3ed-b81e-4f63-90fc-14bb2ee4e1e5",
   "metadata": {},
   "outputs": [
    {
     "name": "stdout",
     "output_type": "stream",
     "text": [
      "[(-sqrt(2)/2, -sqrt(2)/2), (-sqrt(2)/2, sqrt(2)/2), (sqrt(2)/2, -sqrt(2)/2), (sqrt(2)/2, sqrt(2)/2)]\n"
     ]
    }
   ],
   "source": [
    "eqn1 = sp.Eq(x**2+y**2,1)\n",
    "eqn2 = sp.Eq(x**2-y**2,0)\n",
    "soln = sp.solve([eqn1,eqn2],[x,y])\n",
    "print(soln)"
   ]
  },
  {
   "cell_type": "markdown",
   "id": "c8be6609",
   "metadata": {},
   "source": [
    "Let's do some discrete math"
   ]
  },
  {
   "cell_type": "code",
   "execution_count": 40,
   "id": "48492fc3",
   "metadata": {},
   "outputs": [],
   "source": [
    "import sympy.combinatorics as comb"
   ]
  },
  {
   "cell_type": "code",
   "execution_count": 42,
   "id": "1e0c8902",
   "metadata": {},
   "outputs": [],
   "source": [
    "G = comb.DihedralGroup(4)"
   ]
  },
  {
   "cell_type": "code",
   "execution_count": 44,
   "id": "fe15a4c6",
   "metadata": {},
   "outputs": [
    {
     "data": {
      "text/plain": [
       "[Permutation(0, 1, 2, 3), Permutation(0, 3)(1, 2)]"
      ]
     },
     "execution_count": 44,
     "metadata": {},
     "output_type": "execute_result"
    }
   ],
   "source": [
    "G.generators"
   ]
  },
  {
   "cell_type": "markdown",
   "id": "e683e4f9",
   "metadata": {},
   "source": [
    "Remember that the Dihedral group D(4) is the group of symmetries of a square. What do you think these generators above mean? How can we check this idea?"
   ]
  },
  {
   "cell_type": "code",
   "execution_count": 48,
   "id": "fb15b1f4",
   "metadata": {},
   "outputs": [
    {
     "name": "stdout",
     "output_type": "stream",
     "text": [
      "(0 1 2 3)\n"
     ]
    }
   ],
   "source": [
    "rot, flip = G.generators\n",
    "print(rot)"
   ]
  },
  {
   "cell_type": "code",
   "execution_count": 50,
   "id": "f8e066f5",
   "metadata": {},
   "outputs": [
    {
     "data": {
      "text/latex": [
       "$\\displaystyle \\left( 0\\; 2\\right)\\left( 1\\; 3\\right)$"
      ],
      "text/plain": [
       "Permutation(0, 2)(1, 3)"
      ]
     },
     "execution_count": 50,
     "metadata": {},
     "output_type": "execute_result"
    }
   ],
   "source": [
    "rot*rot"
   ]
  },
  {
   "cell_type": "code",
   "execution_count": 52,
   "id": "9a4404e2",
   "metadata": {},
   "outputs": [
    {
     "data": {
      "text/latex": [
       "$\\displaystyle \\left( 0\\; 3\\; 2\\; 1\\right)$"
      ],
      "text/plain": [
       "Permutation(0, 3, 2, 1)"
      ]
     },
     "execution_count": 52,
     "metadata": {},
     "output_type": "execute_result"
    }
   ],
   "source": [
    "rot*rot*rot"
   ]
  },
  {
   "cell_type": "code",
   "execution_count": 56,
   "id": "4a237ff4",
   "metadata": {},
   "outputs": [
    {
     "data": {
      "text/plain": [
       "True"
      ]
     },
     "execution_count": 56,
     "metadata": {},
     "output_type": "execute_result"
    }
   ],
   "source": [
    "rot*rot*rot*rot==G.identity"
   ]
  },
  {
   "cell_type": "code",
   "execution_count": 58,
   "id": "928b38ca",
   "metadata": {},
   "outputs": [
    {
     "data": {
      "text/latex": [
       "$\\displaystyle \\left( 3\\right)$"
      ],
      "text/plain": [
       "Permutation(3)"
      ]
     },
     "execution_count": 58,
     "metadata": {},
     "output_type": "execute_result"
    }
   ],
   "source": [
    "flip*flip"
   ]
  },
  {
   "cell_type": "code",
   "execution_count": null,
   "id": "3fa20f34",
   "metadata": {},
   "outputs": [],
   "source": []
  },
  {
   "cell_type": "code",
   "execution_count": null,
   "id": "ee65faff",
   "metadata": {},
   "outputs": [],
   "source": [
    "flip*flip"
   ]
  },
  {
   "cell_type": "markdown",
   "id": "3bb3c91d",
   "metadata": {},
   "source": [
    "We see that the generators rot and flip of the group D(4) satisfy the relations we expect:\n",
    "\n",
    "$r^4=1, \\qquad f^2=1$ \n",
    "\n",
    "This is a good sanity check."
   ]
  },
  {
   "cell_type": "code",
   "execution_count": 60,
   "id": "0828f2bf",
   "metadata": {},
   "outputs": [],
   "source": [
    "# geometry example \n",
    "import sympy.geometry as geom"
   ]
  },
  {
   "cell_type": "code",
   "execution_count": null,
   "id": "937a96ae",
   "metadata": {},
   "outputs": [],
   "source": [
    "points = geom.convex_hull(geom.Point(0,0), geom.Point(1,0), geom.Point(0,1))\n",
    "print(points)"
   ]
  },
  {
   "cell_type": "markdown",
   "id": "daa11baa",
   "metadata": {},
   "source": [
    "Let's check convexity of the hull by putting an interior point inside and making sure it doesn't make it concave"
   ]
  },
  {
   "cell_type": "code",
   "execution_count": 66,
   "id": "a481533b",
   "metadata": {},
   "outputs": [],
   "source": [
    "points=geom.convex_hull(geom.Point(0,0), geom.Point(1,0), geom.Point(0,1),  geom.Point(.5,.5))"
   ]
  },
  {
   "cell_type": "markdown",
   "id": "faab6db5",
   "metadata": {},
   "source": [
    "Same thing! of course it is, because we just added an interior point, which doesn't change the convex hull."
   ]
  },
  {
   "cell_type": "code",
   "execution_count": 74,
   "id": "64439f87-3a38-4a27-a13b-80dd3ab03689",
   "metadata": {},
   "outputs": [
    {
     "name": "stdout",
     "output_type": "stream",
     "text": [
      "Area: 1/2\n",
      "Perimeter: sqrt(2) + 2\n",
      "Angles: {Point2D(0, 1): pi/4, Point2D(0, 0): pi/2, Point2D(1, 0): pi/4}\n",
      "Sides: [Segment2D(Point2D(0, 0), Point2D(1, 0)), Segment2D(Point2D(1, 0), Point2D(0, 1)), Segment2D(Point2D(0, 1), Point2D(0, 0))]\n"
     ]
    }
   ],
   "source": [
    "# what else can I do with an object like this?\n",
    "print(\"Area:\", points.area)\n",
    "print(\"Perimeter:\", points.perimeter)\n",
    "print(\"Angles:\", points.angles)\n",
    "print(\"Sides:\", points.sides)"
   ]
  },
  {
   "cell_type": "code",
   "execution_count": 76,
   "id": "99d78595-249d-4d72-b50a-cad08f86359e",
   "metadata": {},
   "outputs": [
    {
     "name": "stdout",
     "output_type": "stream",
     "text": [
      "Centroid: Point2D(1/3, 1/3)\n",
      "Incenter: Point2D(1 - sqrt(2)/2, 1 - sqrt(2)/2)\n",
      "Circumcenter: Point2D(1/2, 1/2)\n",
      "Orthocenter: Point2D(0, 0)\n"
     ]
    }
   ],
   "source": [
    "print(\"Centroid:\", points.centroid)\n",
    "print(\"Incenter:\", points.incenter)\n",
    "print(\"Circumcenter:\", points.circumcenter)\n",
    "print(\"Orthocenter:\", points.orthocenter)"
   ]
  },
  {
   "cell_type": "markdown",
   "id": "f6067b74",
   "metadata": {},
   "source": [
    "# Summary\n",
    "\n",
    "Clearly, we are only just scratching the surface of scientific computing in python. There are many more libraries and many more functions in these libraries. The best way to learn is to play around with them and see what you can do.\n",
    "\n",
    "Methods of this \"playing around\" include:\n",
    "- reading the docs to see what is out there\n",
    "- doing something like ``import sympy.combinators as comb`` and then typing ``comb.<tab>`` to see what is available\n",
    "\n",
    "But you can also use CoPilot to make suggestions that you can then see if they word. Here's an example, where all the bullets in the list below were auto generated, and the line above it is the prompt I gave.\n",
    "\n",
    "Packages in python to do group theory include:\n",
    "- [sympy.combinatorics](https://docs.sympy.org/latest/modules/combinatorics/index.html)\n",
    "- [sympy.group](https://docs.sympy.org/latest/modules/group/index.html)\n",
    "- [sympy.algebras](https://docs.sympy.org/latest/modules/algebras/index.html)\n",
    "- [sympy.liealgebras](https://docs.sympy.org/latest/modules/liealgebras/index.html)\n",
    "\n",
    "See, even I just learned ``sympy`` has Lie alebgra support! We use this all the time in high energy theory. Let's try it just for fun\n"
   ]
  },
  {
   "cell_type": "code",
   "execution_count": null,
   "id": "52fffc33",
   "metadata": {},
   "outputs": [],
   "source": [
    "sp.__version__"
   ]
  },
  {
   "cell_type": "code",
   "execution_count": 78,
   "id": "2e59399f",
   "metadata": {},
   "outputs": [],
   "source": [
    "import sympy.liealgebras as la"
   ]
  },
  {
   "cell_type": "code",
   "execution_count": 80,
   "id": "657f8468",
   "metadata": {},
   "outputs": [],
   "source": [
    "e8 = la.cartan_type.CartanType(\"E8\")"
   ]
  },
  {
   "cell_type": "code",
   "execution_count": 88,
   "id": "2cf0d789",
   "metadata": {},
   "outputs": [],
   "source": [
    "dd=e8.dynkin_diagram()"
   ]
  },
  {
   "cell_type": "code",
   "execution_count": 90,
   "id": "27407d7e",
   "metadata": {},
   "outputs": [
    {
     "name": "stdout",
     "output_type": "stream",
     "text": [
      "        2\n",
      "        0\n",
      "        |\n",
      "        |\n",
      "0---0---0---0---0---0---0\n",
      "1   3   4   5   6   7   8\n"
     ]
    }
   ],
   "source": [
    "print(dd)"
   ]
  },
  {
   "cell_type": "code",
   "execution_count": null,
   "id": "1e3a6d96-e930-4631-a616-413d005cf983",
   "metadata": {},
   "outputs": [],
   "source": []
  }
 ],
 "metadata": {
  "kernelspec": {
   "display_name": "Python 3 (ipykernel)",
   "language": "python",
   "name": "python3"
  },
  "language_info": {
   "codemirror_mode": {
    "name": "ipython",
    "version": 3
   },
   "file_extension": ".py",
   "mimetype": "text/x-python",
   "name": "python",
   "nbconvert_exporter": "python",
   "pygments_lexer": "ipython3",
   "version": "3.11.8"
  }
 },
 "nbformat": 4,
 "nbformat_minor": 5
}
