{
 "cells": [
  {
   "cell_type": "markdown",
   "id": "ea6f6089",
   "metadata": {},
   "source": [
    "# Intro to Python: Essential Essentials\n",
    "\n",
    "Now that we've created our GitHub repositories, it's time to get moving with our first python notebook. The overall goal is to learn all of the basics of python, with an emphasis on code transparency; efficiency comes later.\n",
    "\n",
    "We begin by importing some of the libraries we'll use in this section."
   ]
  },
  {
   "cell_type": "code",
   "execution_count": null,
   "id": "4cc7f96d-ed0d-4093-a966-0c799912b2d6",
   "metadata": {},
   "outputs": [],
   "source": [
    "import matplotlib as mp\n",
    "import seaborn as sb\n",
    "import numpy as np\n",
    "import scipy as sy\n",
    "import pandas as pd"
   ]
  },
  {
   "cell_type": "markdown",
   "id": "d358b5ff",
   "metadata": {},
   "source": [
    "## Basic data types"
   ]
  },
  {
   "cell_type": "markdown",
   "id": "72cfcabd",
   "metadata": {},
   "source": [
    "the essential data types in python are integers, floats, strings, and booleans. Let's play with them."
   ]
  },
  {
   "cell_type": "code",
   "execution_count": 13,
   "id": "e59b12ea",
   "metadata": {},
   "outputs": [
    {
     "name": "stdout",
     "output_type": "stream",
     "text": [
      "1.2 \n",
      " 1 \n",
      " hello world \n",
      " True \n",
      " <class 'float'> <class 'int'> <class 'str'> <class 'bool'>\n"
     ]
    }
   ],
   "source": [
    "# Comments must contain a hash at the beginning of the line\n",
    "a = 1.2\n",
    "b = 1\n",
    "c = 'hello world'\n",
    "d = True\n",
    "print(a,'\\n',b,'\\n',c,'\\n',d,'\\n',type(a),type(b),type(c),type(d))"
   ]
  },
  {
   "cell_type": "code",
   "execution_count": 17,
   "id": "c78c433b",
   "metadata": {},
   "outputs": [],
   "source": [
    "# Assignment can occur in one line\n",
    "a, b, c, d = 1.2, 1, 'hello world', True"
   ]
  },
  {
   "cell_type": "markdown",
   "id": "b4506f1d-99f5-499a-8930-c42f3a4e4df0",
   "metadata": {},
   "source": [
    "## Typecasting\n",
    "You can cast variables across types. Some operations may be possible for one datatype and not another."
   ]
  },
  {
   "cell_type": "code",
   "execution_count": 19,
   "id": "edf89dc9",
   "metadata": {},
   "outputs": [
    {
     "data": {
      "text/plain": [
       "1"
      ]
     },
     "execution_count": 19,
     "metadata": {},
     "output_type": "execute_result"
    }
   ],
   "source": [
    "int(a)"
   ]
  },
  {
   "cell_type": "code",
   "execution_count": 21,
   "id": "07cb3ca7-4097-4c16-9e12-1af53f4e83dd",
   "metadata": {},
   "outputs": [
    {
     "data": {
      "text/plain": [
       "1"
      ]
     },
     "execution_count": 21,
     "metadata": {},
     "output_type": "execute_result"
    }
   ],
   "source": [
    "int(d)"
   ]
  },
  {
   "cell_type": "code",
   "execution_count": 23,
   "id": "c1c77986-26fd-417c-bf55-a22a77512e33",
   "metadata": {},
   "outputs": [
    {
     "data": {
      "text/plain": [
       "1.0"
      ]
     },
     "execution_count": 23,
     "metadata": {},
     "output_type": "execute_result"
    }
   ],
   "source": [
    "float(b)"
   ]
  },
  {
   "cell_type": "code",
   "execution_count": 25,
   "id": "3765e355-7da0-4ab1-9408-46260e540489",
   "metadata": {},
   "outputs": [
    {
     "ename": "ValueError",
     "evalue": "invalid literal for int() with base 10: 'hello world'",
     "output_type": "error",
     "traceback": [
      "\u001b[1;31m---------------------------------------------------------------------------\u001b[0m",
      "\u001b[1;31mValueError\u001b[0m                                Traceback (most recent call last)",
      "Cell \u001b[1;32mIn[25], line 1\u001b[0m\n\u001b[1;32m----> 1\u001b[0m \u001b[38;5;28mint\u001b[39m(c)\n",
      "\u001b[1;31mValueError\u001b[0m: invalid literal for int() with base 10: 'hello world'"
     ]
    }
   ],
   "source": [
    "int(c)"
   ]
  },
  {
   "cell_type": "code",
   "execution_count": 27,
   "id": "6f03105f",
   "metadata": {},
   "outputs": [
    {
     "data": {
      "text/plain": [
       "'hello world 1.2'"
      ]
     },
     "execution_count": 27,
     "metadata": {},
     "output_type": "execute_result"
    }
   ],
   "source": [
    "c + ' ' + str(a)"
   ]
  },
  {
   "cell_type": "code",
   "execution_count": 29,
   "id": "86a26faa-e64e-40e2-a1a0-f7d50644c7b1",
   "metadata": {},
   "outputs": [
    {
     "data": {
      "text/plain": [
       "'l'"
      ]
     },
     "execution_count": 29,
     "metadata": {},
     "output_type": "execute_result"
    }
   ],
   "source": [
    "c[2:3]"
   ]
  },
  {
   "cell_type": "markdown",
   "id": "a95a64dc-cd98-46de-a88e-7f549f808927",
   "metadata": {},
   "source": [
    "## Indexing\n",
    "Indexing is a way of referring to one element of a larger set. You may index into a list, string, dataframe, etc."
   ]
  },
  {
   "cell_type": "code",
   "execution_count": 31,
   "id": "e28be1e8",
   "metadata": {},
   "outputs": [
    {
     "data": {
      "text/plain": [
       "'ello'"
      ]
     },
     "execution_count": 31,
     "metadata": {},
     "output_type": "execute_result"
    }
   ],
   "source": [
    "c[1:5]"
   ]
  },
  {
   "cell_type": "code",
   "execution_count": 33,
   "id": "66c78d2b",
   "metadata": {},
   "outputs": [
    {
     "data": {
      "text/plain": [
       "['hello', 'world,', 'this', 'is', 'a', 'computational', 'physics', 'class!']"
      ]
     },
     "execution_count": 33,
     "metadata": {},
     "output_type": "execute_result"
    }
   ],
   "source": [
    "c = \"hello world, this is a computational physics class!\"\n",
    "c.split(' ')"
   ]
  },
  {
   "cell_type": "code",
   "execution_count": 37,
   "id": "f58ef402",
   "metadata": {},
   "outputs": [
    {
     "data": {
      "text/plain": [
       "'i'"
      ]
     },
     "execution_count": 37,
     "metadata": {},
     "output_type": "execute_result"
    }
   ],
   "source": [
    "c.split(' ')[2][2]"
   ]
  },
  {
   "cell_type": "code",
   "execution_count": 39,
   "id": "aa83ba51",
   "metadata": {},
   "outputs": [
    {
     "data": {
      "text/plain": [
       "'hello'"
      ]
     },
     "execution_count": 39,
     "metadata": {},
     "output_type": "execute_result"
    }
   ],
   "source": [
    "c.split(' ')[0]"
   ]
  },
  {
   "cell_type": "markdown",
   "id": "95c8ec5d",
   "metadata": {},
   "source": [
    "## Conditionals and Loops\n",
    "\n",
    "Conditionals are the bread and butter of programming. They allow us to make decisions based on the state of our program. The basic syntax is"
   ]
  },
  {
   "cell_type": "code",
   "execution_count": 43,
   "id": "591432dc",
   "metadata": {},
   "outputs": [
    {
     "name": "stdout",
     "output_type": "stream",
     "text": [
      "I know basic math: the answer is 49\n"
     ]
    }
   ],
   "source": [
    "target = 49\n",
    "if 7*7 == target:\n",
    "    print(f\"I know basic math: the answer is {target}\")\n",
    "else:\n",
    "    print(\"I need to go back to school\")"
   ]
  },
  {
   "cell_type": "code",
   "execution_count": 47,
   "id": "17bb5813",
   "metadata": {},
   "outputs": [
    {
     "ename": "IndentationError",
     "evalue": "expected an indented block after 'if' statement on line 2 (420152429.py, line 3)",
     "output_type": "error",
     "traceback": [
      "\u001b[1;36m  Cell \u001b[1;32mIn[47], line 3\u001b[1;36m\u001b[0m\n\u001b[1;33m    print(\"I'm in the quantum field theory course\")\u001b[0m\n\u001b[1;37m    ^\u001b[0m\n\u001b[1;31mIndentationError\u001b[0m\u001b[1;31m:\u001b[0m expected an indented block after 'if' statement on line 2\n"
     ]
    }
   ],
   "source": [
    "course = \"statmech\"\n",
    "if course == \"qft\":\n",
    "print(\"I'm in the quantum field theory course\")\n",
    "elif course == \"statmech\":\n",
    "    print(\"I'm in the statistical mechanics course\")\n",
    "elif course == \"comp\":\n",
    "    print(\"I'm in the computational physics course\")\n",
    "else:\n",
    "    print(\"You didn't list my course!\")"
   ]
  },
  {
   "cell_type": "markdown",
   "id": "7ad8664c",
   "metadata": {},
   "source": [
    "Loops are also very important. They allow us to repeat a task many times."
   ]
  },
  {
   "cell_type": "code",
   "execution_count": 49,
   "id": "4d0891f5",
   "metadata": {},
   "outputs": [
    {
     "name": "stdout",
     "output_type": "stream",
     "text": [
      "285 285\n"
     ]
    }
   ],
   "source": [
    "counter, result = 0, 0\n",
    "while counter < 10:\n",
    "    result += counter**2 # this is the same as result = result + counter**2\n",
    "    counter += 1\n",
    "print(result,1**2+2**2+3**2+4**2+5**2+6**2+7**2+8**2+9**2)"
   ]
  },
  {
   "cell_type": "code",
   "execution_count": 51,
   "id": "22ed16ad",
   "metadata": {},
   "outputs": [
    {
     "name": "stdout",
     "output_type": "stream",
     "text": [
      "0\n",
      "1\n",
      "2\n",
      "3\n"
     ]
    }
   ],
   "source": [
    "for i in range(4):\n",
    "    print(i)"
   ]
  },
  {
   "cell_type": "code",
   "execution_count": 53,
   "id": "2a83b3d9",
   "metadata": {},
   "outputs": [
    {
     "data": {
      "text/plain": [
       "[0, 1, 2, 3, 4, 5, 6, 7, 8, 9]"
      ]
     },
     "execution_count": 53,
     "metadata": {},
     "output_type": "execute_result"
    }
   ],
   "source": [
    "list(range(10))"
   ]
  },
  {
   "cell_type": "code",
   "execution_count": null,
   "id": "ca690430",
   "metadata": {},
   "outputs": [],
   "source": [
    "result = 0\n",
    "for counter in range(10):\n",
    "    result += counter**2\n",
    "    \n",
    "print(result)"
   ]
  },
  {
   "cell_type": "markdown",
   "id": "f8ea7be4",
   "metadata": {},
   "source": [
    "## Collections\n",
    "\n",
    "Essential types of collections are lists, tuples, dictionaries, and sets. We'll go through each of them."
   ]
  },
  {
   "cell_type": "code",
   "execution_count": 55,
   "id": "2e55ab5e",
   "metadata": {},
   "outputs": [
    {
     "data": {
      "text/plain": [
       "(1, 1, 'physics')"
      ]
     },
     "execution_count": 55,
     "metadata": {},
     "output_type": "execute_result"
    }
   ],
   "source": [
    "a, b, c = [1,2,2,4], (1,2,2,4), {1,2,2,4} # list, tuple, set\n",
    "teachers = {'joe':'physics', 'jane':'math', 'jill':'english'} # dictionary\n",
    "a[0], b[0], teachers['joe']"
   ]
  },
  {
   "cell_type": "code",
   "execution_count": 59,
   "id": "c5a38883",
   "metadata": {},
   "outputs": [
    {
     "data": {
      "text/plain": [
       "[1, 2, 4]"
      ]
     },
     "execution_count": 59,
     "metadata": {},
     "output_type": "execute_result"
    }
   ],
   "source": [
    "list(c)"
   ]
  },
  {
   "cell_type": "code",
   "execution_count": 61,
   "id": "dd57caca",
   "metadata": {},
   "outputs": [
    {
     "data": {
      "text/plain": [
       "(4, 2)"
      ]
     },
     "execution_count": 61,
     "metadata": {},
     "output_type": "execute_result"
    }
   ],
   "source": [
    "a[-1],a[-2]"
   ]
  },
  {
   "cell_type": "code",
   "execution_count": 65,
   "id": "219a644d",
   "metadata": {},
   "outputs": [
    {
     "data": {
      "text/plain": [
       "<enumerate at 0x1ee3cd96f20>"
      ]
     },
     "execution_count": 65,
     "metadata": {},
     "output_type": "execute_result"
    }
   ],
   "source": [
    "enumerate(a)"
   ]
  },
  {
   "cell_type": "code",
   "execution_count": 67,
   "id": "f1ef808e",
   "metadata": {},
   "outputs": [
    {
     "name": "stdout",
     "output_type": "stream",
     "text": [
      "0 1 1\n",
      "1 2 4\n",
      "2 2 4\n",
      "3 4 16\n"
     ]
    }
   ],
   "source": [
    "for idx, val in enumerate(a):\n",
    "    print(idx,val,val**2)"
   ]
  },
  {
   "cell_type": "code",
   "execution_count": 69,
   "id": "cc20bd41",
   "metadata": {},
   "outputs": [
    {
     "name": "stdout",
     "output_type": "stream",
     "text": [
      "1\n",
      "4\n",
      "4\n",
      "16\n"
     ]
    }
   ],
   "source": [
    "for val in a: print(val**2)"
   ]
  },
  {
   "cell_type": "markdown",
   "id": "408c1ca5",
   "metadata": {},
   "source": [
    "You're a physicist and probably think sequences are cool."
   ]
  },
  {
   "cell_type": "code",
   "execution_count": 71,
   "id": "f2bbbb37",
   "metadata": {},
   "outputs": [
    {
     "name": "stdout",
     "output_type": "stream",
     "text": [
      "[1, 1, 2]\n",
      "[1, 1, 2, 3]\n",
      "[1, 1, 2, 3, 5]\n",
      "[1, 1, 2, 3, 5, 8]\n",
      "[1, 1, 2, 3, 5, 8, 13]\n",
      "[1, 1, 2, 3, 5, 8, 13, 21]\n",
      "[1, 1, 2, 3, 5, 8, 13, 21, 34]\n",
      "[1, 1, 2, 3, 5, 8, 13, 21, 34, 55]\n",
      "[1, 1, 2, 3, 5, 8, 13, 21, 34, 55, 89]\n",
      "[1, 1, 2, 3, 5, 8, 13, 21, 34, 55, 89, 144]\n",
      "[1, 1, 2, 3, 5, 8, 13, 21, 34, 55, 89, 144]\n"
     ]
    }
   ],
   "source": [
    "fibonacci = [1,1] \n",
    "for i in range(10):\n",
    "    fibonacci.append(fibonacci[-1] + fibonacci[-2])\n",
    "    print(fibonacci)\n",
    "print(fibonacci)"
   ]
  },
  {
   "cell_type": "markdown",
   "id": "d7b952a3",
   "metadata": {},
   "source": [
    "This one is a little complicated because the variable refers to itself. But for ones that don't we have some clever tricks"
   ]
  },
  {
   "cell_type": "code",
   "execution_count": 73,
   "id": "bf047fa8",
   "metadata": {},
   "outputs": [
    {
     "name": "stdout",
     "output_type": "stream",
     "text": [
      "[0, 1, 4, 9, 16, 25, 36, 49, 64, 81]\n"
     ]
    }
   ],
   "source": [
    "squares = []\n",
    "for i in range(10):\n",
    "    squares.append(i**2)\n",
    "print(squares)"
   ]
  },
  {
   "cell_type": "markdown",
   "id": "4374d801",
   "metadata": {},
   "source": [
    "**But there is a cuter pythonic way to do it**"
   ]
  },
  {
   "cell_type": "code",
   "execution_count": 77,
   "id": "d20e9e12-6426-4b53-9902-ad5efa5a4e30",
   "metadata": {},
   "outputs": [
    {
     "name": "stdout",
     "output_type": "stream",
     "text": [
      "[0, 1, 4, 9, 16, 25, 36, 49, 64, 81]\n"
     ]
    }
   ],
   "source": [
    "squares = [i**2 for i in range(10)]\n",
    "print(squares)"
   ]
  },
  {
   "cell_type": "markdown",
   "id": "1024bc74",
   "metadata": {},
   "source": [
    "Let's check out a difference between tuples, lists, and sets according to their lookup time."
   ]
  },
  {
   "cell_type": "code",
   "execution_count": 79,
   "id": "44c385ed",
   "metadata": {},
   "outputs": [
    {
     "name": "stdout",
     "output_type": "stream",
     "text": [
      "CPU times: total: 13.7 s\n",
      "Wall time: 14.3 s\n"
     ]
    }
   ],
   "source": [
    "%%time\n",
    "maxval = 10000000\n",
    "biglist = list(range(maxval))\n",
    "\n",
    "import random\n",
    "randoms_between_0_maxval = [random.randint(0,maxval) for _ in range(250)]\n",
    "for rand in randoms_between_0_maxval:\n",
    "    rand in biglist\n"
   ]
  },
  {
   "cell_type": "code",
   "execution_count": null,
   "id": "ddeafb77",
   "metadata": {},
   "outputs": [],
   "source": [
    "for k in biglist[:10]:\n",
    "    print(k)"
   ]
  },
  {
   "cell_type": "code",
   "execution_count": 81,
   "id": "27277f11",
   "metadata": {},
   "outputs": [
    {
     "name": "stdout",
     "output_type": "stream",
     "text": [
      "CPU times: total: 312 ms\n",
      "Wall time: 413 ms\n"
     ]
    }
   ],
   "source": [
    "%%time\n",
    "maxval = 10000000\n",
    "bigset = set(range(maxval))\n",
    "\n",
    "for rand in randoms_between_0_maxval:\n",
    "    rand in bigset"
   ]
  },
  {
   "cell_type": "markdown",
   "id": "eabeaa10",
   "metadata": {},
   "source": [
    "Sets aren't subscriptable because they are unordered. But they are very useful for checking membership because they have O(1) lookup time.\n",
    "\n",
    "Lists, on the other hand, are ordered and subscriptable. But they have O(n) lookup time."
   ]
  },
  {
   "cell_type": "code",
   "execution_count": 83,
   "id": "e6293502",
   "metadata": {},
   "outputs": [
    {
     "data": {
      "text/plain": [
       "700000"
      ]
     },
     "execution_count": 83,
     "metadata": {},
     "output_type": "execute_result"
    }
   ],
   "source": [
    "biglist[700000]"
   ]
  },
  {
   "cell_type": "code",
   "execution_count": 85,
   "id": "8793f166",
   "metadata": {},
   "outputs": [
    {
     "ename": "TypeError",
     "evalue": "'set' object is not subscriptable",
     "output_type": "error",
     "traceback": [
      "\u001b[1;31m---------------------------------------------------------------------------\u001b[0m",
      "\u001b[1;31mTypeError\u001b[0m                                 Traceback (most recent call last)",
      "Cell \u001b[1;32mIn[85], line 1\u001b[0m\n\u001b[1;32m----> 1\u001b[0m bigset[\u001b[38;5;241m700000\u001b[39m]\n",
      "\u001b[1;31mTypeError\u001b[0m: 'set' object is not subscriptable"
     ]
    }
   ],
   "source": [
    "bigset[700000]"
   ]
  },
  {
   "cell_type": "markdown",
   "id": "5b08069c",
   "metadata": {},
   "source": [
    "# Plotting\n",
    "\n",
    "We need to learn how to plot stuff."
   ]
  },
  {
   "cell_type": "code",
   "execution_count": 89,
   "id": "16b23ebd",
   "metadata": {},
   "outputs": [
    {
     "data": {
      "text/plain": [
       "[<matplotlib.lines.Line2D at 0x1ee3b8949d0>]"
      ]
     },
     "execution_count": 89,
     "metadata": {},
     "output_type": "execute_result"
    },
    {
     "data": {
      "image/png": "[encoded data removed]",
      "text/plain": [
       "<Figure size 480x360 with 1 Axes>"
      ]
     },
     "metadata": {},
     "output_type": "display_data"
    }
   ],
   "source": [
    "from matplotlib import pyplot as plt\n",
    "\n",
    "#reduces dpi so figures are smaller\n",
    "plt.rcParams['figure.dpi'] = 75\n",
    "\n",
    "# let's make a parabola \n",
    "x, y = [i for i in range(-10,11)], [i**2 for i in range(-10,11)]\n",
    "plt.plot(x,y)"
   ]
  },
  {
   "cell_type": "code",
   "execution_count": 93,
   "id": "29a20838",
   "metadata": {},
   "outputs": [
    {
     "data": {
      "text/plain": [
       "<Axes: xlabel='x axis', ylabel='y axis'>"
      ]
     },
     "execution_count": 93,
     "metadata": {},
     "output_type": "execute_result"
    },
    {
     "data": {
      "image/png": "[encoded data removed]",
      "text/plain": [
       "<Figure size 480x360 with 1 Axes>"
      ]
     },
     "metadata": {},
     "output_type": "display_data"
    }
   ],
   "source": [
    "import seaborn as sb\n",
    "import pandas as pd\n",
    "import warnings as wr\n",
    "sb.set_style('darkgrid')\n",
    "wr.simplefilter(action='ignore',category=FutureWarning)\n",
    "wr.simplefilter(action='ignore',category=UserWarning)\n",
    "\n",
    "df = pd.DataFrame({'x axis':x, 'y axis':y})\n",
    "sb.lineplot(x='x axis', y='y axis', data=df)"
   ]
  },
  {
   "cell_type": "markdown",
   "id": "c8bffe9e",
   "metadata": {},
   "source": [
    "Other types of plots in matplotlib and seaborn are histograms, scatter plots, and 3D plots.\n",
    "\n",
    "Let's make a histogram of the normal distribution."
   ]
  },
  {
   "cell_type": "code",
   "execution_count": 95,
   "id": "c0c94449",
   "metadata": {},
   "outputs": [
    {
     "data": {
      "image/png": "[encoded data removed]",
      "text/plain": [
       "<Figure size 375x375 with 1 Axes>"
      ]
     },
     "metadata": {},
     "output_type": "display_data"
    },
    {
     "data": {
      "image/png": "[encoded data removed]",
      "text/plain": [
       "<Figure size 375x375 with 1 Axes>"
      ]
     },
     "metadata": {},
     "output_type": "display_data"
    },
    {
     "data": {
      "image/png": "[encoded data removed]",
      "text/plain": [
       "<Figure size 375x375 with 1 Axes>"
      ]
     },
     "metadata": {},
     "output_type": "display_data"
    },
    {
     "data": {
      "image/png": "[encoded data removed]",
      "text/plain": [
       "<Figure size 375x375 with 1 Axes>"
      ]
     },
     "metadata": {},
     "output_type": "display_data"
    }
   ],
   "source": [
    "import random\n",
    "\n",
    "for num_samples in [10**k for k in [2,3,4,5]]:\n",
    "    gaussian_samples = [random.gauss(0,1) for _ in range(num_samples)]\n",
    "    sb.displot(gaussian_samples)"
   ]
  },
  {
   "cell_type": "markdown",
   "id": "22d3048f",
   "metadata": {},
   "source": [
    "You might notice that graphs are drawn on top of each other! This is a common thing that occurs. We get around it by `mp.show()`."
   ]
  },
  {
   "cell_type": "code",
   "execution_count": null,
   "id": "4b1137aa",
   "metadata": {},
   "outputs": [],
   "source": []
  },
  {
   "cell_type": "markdown",
   "id": "8b015637",
   "metadata": {},
   "source": [
    "# Code Lab\n",
    "\n",
    "Let's try some stuff."
   ]
  },
  {
   "cell_type": "markdown",
   "id": "5cee4764",
   "metadata": {},
   "source": [
    "Let's start by computing pi by a series expansion. We'll use the fact that\n",
    "\n",
    "$$\\frac{\\pi}{4} = \\sum_{n=0}^\\infty \\frac{(-1)^n}{2n+1}$$"
   ]
  },
  {
   "cell_type": "code",
   "execution_count": 99,
   "id": "5bca6436",
   "metadata": {},
   "outputs": [],
   "source": [
    "def pi_from_k_terms(k):\n",
    "    return sum([(-1)**i/(2*i+1) for i in range(k)])*4"
   ]
  },
  {
   "cell_type": "markdown",
   "id": "43301241-73df-497a-9ec6-96695b6b1674",
   "metadata": {},
   "source": [
    "How do we check convergence of this series?"
   ]
  },
  {
   "cell_type": "code",
   "execution_count": 113,
   "id": "7d64d3f2-80d5-49ea-b1b1-60dcb1ee7414",
   "metadata": {
    "scrolled": true
   },
   "outputs": [
    {
     "name": "stdout",
     "output_type": "stream",
     "text": [
      "3.140592653839794\n",
      "3.1425916543395442\n",
      "3.140594649846284\n",
      "3.1425896623151117\n",
      "3.1405966379005625\n",
      "3.142587678219129\n",
      "3.140598618050059\n",
      "3.142585702004356\n",
      "3.140600590341825\n",
      "3.142583733623927\n"
     ]
    }
   ],
   "source": [
    "import numpy as np\n",
    "for k in [k+1000 for k in range (10)]: print(pi_from_k_terms(k))"
   ]
  },
  {
   "cell_type": "code",
   "execution_count": 115,
   "id": "66254765-07b5-4f16-a14a-5cc604486a43",
   "metadata": {
    "scrolled": true
   },
   "outputs": [
    {
     "data": {
      "text/plain": [
       "[<matplotlib.lines.Line2D at 0x1ee78559a10>]"
      ]
     },
     "execution_count": 115,
     "metadata": {},
     "output_type": "execute_result"
    },
    {
     "data": {
      "image/png": "[encoded data removed]",
      "text/plain": [
       "<Figure size 480x360 with 1 Axes>"
      ]
     },
     "metadata": {},
     "output_type": "display_data"
    }
   ],
   "source": [
    "p = [pi_from_k_terms(k)-np.pi for k in range(100000,100100)]\n",
    "plt.plot(p)"
   ]
  },
  {
   "cell_type": "code",
   "execution_count": 117,
   "id": "d50b33c3-1f7e-4a4e-91a7-2d9aedcfba5f",
   "metadata": {},
   "outputs": [
    {
     "data": {
      "text/plain": [
       "3.1415826635797304"
      ]
     },
     "execution_count": 117,
     "metadata": {},
     "output_type": "execute_result"
    }
   ],
   "source": [
    "pi_from_k_terms(100100)"
   ]
  },
  {
   "cell_type": "markdown",
   "id": "b8d55a03",
   "metadata": {},
   "source": [
    "Cool, let's try e. We know e from its Taylor series\n",
    "\n",
    "$$e^x = \\sum_{n=0}^\\infty \\frac{x^n}{n!}$$\n",
    "\n",
    "May need factorial function from `math`"
   ]
  },
  {
   "cell_type": "code",
   "execution_count": 119,
   "id": "bb223181",
   "metadata": {},
   "outputs": [
    {
     "data": {
      "text/plain": [
       "2.7182815255731922"
      ]
     },
     "execution_count": 119,
     "metadata": {},
     "output_type": "execute_result"
    }
   ],
   "source": [
    "from math import factorial\n",
    "\n",
    "run = [1/factorial(k) for k in range (10)]\n",
    "sum(run)"
   ]
  },
  {
   "cell_type": "code",
   "execution_count": 123,
   "id": "3714ed8d-19fb-4825-bb81-135e3ff8c5e4",
   "metadata": {},
   "outputs": [
    {
     "name": "stdout",
     "output_type": "stream",
     "text": [
      "0\n",
      "1.0\n",
      "2.0\n",
      "2.5\n",
      "2.6666666666666665\n",
      "2.708333333333333\n",
      "2.7166666666666663\n",
      "2.7180555555555554\n",
      "2.7182539682539684\n",
      "2.71827876984127\n"
     ]
    }
   ],
   "source": [
    "for k in [k for k in range(10)]:print(sum([1/factorial(k) for k in range(k)]))"
   ]
  },
  {
   "cell_type": "markdown",
   "id": "cc3ea5bf",
   "metadata": {},
   "source": [
    "Let's do some physics. We'll start with ballistic motion. The equation is\n",
    "\n",
    "$$y(t) = y_0 + v_0 t - \\frac{1}{2} g t^2$$\n",
    "\n",
    "where $y_0$ is the initial height, $v_0$ is the initial velocity, and $g$ is the acceleration due to gravity. Let's plot this for a few different initial velocities."
   ]
  },
  {
   "cell_type": "code",
   "execution_count": null,
   "id": "b8863314",
   "metadata": {},
   "outputs": [],
   "source": [
    "def plot_motion(y0, v0):\n",
    "    g= 9.8\n",
    "    ts = list(range(10))\n",
    "    y = [y0 + v0*t - 0.5*g*t**2 for t in ts]\n",
    "    plt.plot(ts,y)\n",
    "    plt.xlabel('time (s)')\n",
    "    plt.ylabel('height (m)')\n",
    "    plt.title(\"Our Cool Ballistic Motion Plot, Yay, :-D\")\n",
    "    plt.show()"
   ]
  },
  {
   "cell_type": "code",
   "execution_count": null,
   "id": "7568f084",
   "metadata": {},
   "outputs": [],
   "source": [
    "plot_motion(10,0)"
   ]
  },
  {
   "cell_type": "code",
   "execution_count": null,
   "id": "a40989ee",
   "metadata": {},
   "outputs": [],
   "source": [
    "plot_motion(10,50)"
   ]
  },
  {
   "cell_type": "markdown",
   "id": "ed7599f8",
   "metadata": {},
   "source": [
    "Okay now let's do some math that appears often in physics: the Central Limit Theorem (CLT). Recall that the CLT states that the sum of a large number of independent random variables is approximately normally distributed. Let's test this by summing a bunch of random variables. We'll use the random library, which has a number of distributions we can sample from, including: uniform, normal, binomial, and poisson."
   ]
  },
  {
   "cell_type": "code",
   "execution_count": null,
   "id": "a941bb54",
   "metadata": {},
   "outputs": [],
   "source": [
    "sum([random.uniform(-1,1) for _ in range(500)])/math.sqrt(500)"
   ]
  },
  {
   "cell_type": "code",
   "execution_count": 125,
   "id": "d3178d27",
   "metadata": {},
   "outputs": [],
   "source": [
    "import random\n",
    "import math \n",
    "\n",
    "def sum_of_random_variables(num_in_sum):\n",
    "    return sum([random.uniform(-1,1) for _ in range(num_in_sum)])/math.sqrt(num_in_sum)"
   ]
  },
  {
   "cell_type": "code",
   "execution_count": 127,
   "id": "a2877480",
   "metadata": {},
   "outputs": [
    {
     "data": {
      "text/plain": [
       "<seaborn.axisgrid.FacetGrid at 0x1ee3b776c50>"
      ]
     },
     "execution_count": 127,
     "metadata": {},
     "output_type": "execute_result"
    },
    {
     "data": {
      "image/png": "[encoded data removed]",
      "text/plain": [
       "<Figure size 375x375 with 1 Axes>"
      ]
     },
     "metadata": {},
     "output_type": "display_data"
    }
   ],
   "source": [
    "import seaborn as sb\n",
    "num_samples = 10000\n",
    "\n",
    "sb.displot([sum_of_random_variables(1) for _ in range(num_samples)])"
   ]
  },
  {
   "cell_type": "code",
   "execution_count": 129,
   "id": "cd17af4c",
   "metadata": {},
   "outputs": [
    {
     "data": {
      "text/plain": [
       "<seaborn.axisgrid.FacetGrid at 0x1ee78186c50>"
      ]
     },
     "execution_count": 129,
     "metadata": {},
     "output_type": "execute_result"
    },
    {
     "data": {
      "image/png": "[encoded data removed]",
      "text/plain": [
       "<Figure size 375x375 with 1 Axes>"
      ]
     },
     "metadata": {},
     "output_type": "display_data"
    }
   ],
   "source": [
    "sb.displot([sum_of_random_variables(2) for _ in range(num_samples)])"
   ]
  },
  {
   "cell_type": "code",
   "execution_count": null,
   "id": "2703af4b",
   "metadata": {},
   "outputs": [],
   "source": [
    "import matplotlib.pyplot as pyp"
   ]
  },
  {
   "cell_type": "code",
   "execution_count": 131,
   "id": "06cc8e76",
   "metadata": {},
   "outputs": [
    {
     "name": "stdout",
     "output_type": "stream",
     "text": [
      "1\n"
     ]
    },
    {
     "ename": "NameError",
     "evalue": "name 'pyp' is not defined",
     "output_type": "error",
     "traceback": [
      "\u001b[1;31m---------------------------------------------------------------------------\u001b[0m",
      "\u001b[1;31mNameError\u001b[0m                                 Traceback (most recent call last)",
      "Cell \u001b[1;32mIn[131], line 4\u001b[0m\n\u001b[0;32m      2\u001b[0m \u001b[38;5;28mprint\u001b[39m(num_in_sum)\n\u001b[0;32m      3\u001b[0m sb\u001b[38;5;241m.\u001b[39mdisplot([sum_of_random_variables(num_in_sum) \u001b[38;5;28;01mfor\u001b[39;00m _ \u001b[38;5;129;01min\u001b[39;00m \u001b[38;5;28mrange\u001b[39m(num_samples)])\n\u001b[1;32m----> 4\u001b[0m pyp\u001b[38;5;241m.\u001b[39mshow()\n",
      "\u001b[1;31mNameError\u001b[0m: name 'pyp' is not defined"
     ]
    },
    {
     "data": {
      "image/png": "[encoded data removed]",
      "text/plain": [
       "<Figure size 375x375 with 1 Axes>"
      ]
     },
     "metadata": {},
     "output_type": "display_data"
    }
   ],
   "source": [
    "for num_in_sum in range(1,11):\n",
    "    print(num_in_sum)\n",
    "    sb.displot([sum_of_random_variables(num_in_sum) for _ in range(num_samples)])\n",
    "    pyp.show()"
   ]
  },
  {
   "cell_type": "code",
   "execution_count": 133,
   "id": "f52ea65e",
   "metadata": {},
   "outputs": [
    {
     "data": {
      "text/plain": [
       "<seaborn.axisgrid.FacetGrid at 0x1ee799bbe50>"
      ]
     },
     "execution_count": 133,
     "metadata": {},
     "output_type": "execute_result"
    },
    {
     "data": {
      "image/png": "[encoded data removed]",
      "text/plain": [
       "<Figure size 375x375 with 1 Axes>"
      ]
     },
     "metadata": {},
     "output_type": "display_data"
    }
   ],
   "source": [
    "sb.displot([sum_of_random_variables(1000) for _ in range(num_samples)])"
   ]
  },
  {
   "cell_type": "code",
   "execution_count": null,
   "id": "e586538f",
   "metadata": {},
   "outputs": [],
   "source": []
  }
 ],
 "metadata": {
  "kernelspec": {
   "display_name": "Python 3 (ipykernel)",
   "language": "python",
   "name": "python3"
  },
  "language_info": {
   "codemirror_mode": {
    "name": "ipython",
    "version": 3
   },
   "file_extension": ".py",
   "mimetype": "text/x-python",
   "name": "python",
   "nbconvert_exporter": "python",
   "pygments_lexer": "ipython3",
   "version": "3.11.8"
  }
 },
 "nbformat": 4,
 "nbformat_minor": 5
}
